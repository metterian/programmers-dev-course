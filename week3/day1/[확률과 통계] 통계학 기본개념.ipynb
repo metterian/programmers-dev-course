{
 "cells": [
  {
   "cell_type": "markdown",
   "metadata": {},
   "source": [
    "# 통게학 기본 개념\n",
    "\n",
    "## 개념정의\n",
    "\n",
    "### 모집단 (popluation)\n",
    "\n",
    "> 어떤 질문이나 실험을 위해 관심이 대사이 되는 개체나 사선의 집합\n",
    ">\n",
    "> ex) 전교 남학생의 키\n",
    "\n",
    "### 모수 (parameter)\n",
    "\n",
    "> 모딥단의 **수치적인 특성**\n",
    ">\n",
    "> ex) 키의 평균\n",
    "\n",
    "### 표본 (sample)\n",
    "\n",
    "> 모집단에서 선택된 개체나 사건의 집합\n",
    "\n",
    "<br>\n",
    "\n",
    "\n",
    "\n",
    "## 도수 (Frequency)\n",
    "\n",
    "> 어떤 사건이 실험이나 관찰로 부터 발생한 횟수\n",
    "\n",
    "### 표현 방법\n",
    "\n",
    "- 도수분포표\n",
    "- 막대그래프\n",
    "- 히스토그램"
   ]
  },
  {
   "cell_type": "markdown",
   "metadata": {},
   "source": [
    " "
   ]
  },
  {
   "cell_type": "markdown",
   "metadata": {},
   "source": [
    "## 평균\n",
    "$$\n",
    "\\frac{x_{1}+x_{2}+\\cdots+x_{n}}{n}=\\frac{1}{n} \\sum_{i=1}^{n} x_{i}\n",
    "$$"
   ]
  },
  {
   "cell_type": "code",
   "execution_count": 2,
   "metadata": {},
   "outputs": [
    {
     "data": {
      "text/plain": [
       "70"
      ]
     },
     "execution_count": 2,
     "metadata": {},
     "output_type": "execute_result"
    }
   ],
   "source": [
    "import statistics\n",
    "a = [79, 54, 62, 85]\n",
    "statistics.mean(a)"
   ]
  },
  {
   "cell_type": "markdown",
   "metadata": {},
   "source": [
    "## 평균"
   ]
  }
 ],
 "metadata": {
  "kernelspec": {
   "display_name": "Python 3",
   "language": "python",
   "name": "python3"
  },
  "language_info": {
   "codemirror_mode": {
    "name": "ipython",
    "version": 3
   },
   "file_extension": ".py",
   "mimetype": "text/x-python",
   "name": "python",
   "nbconvert_exporter": "python",
   "pygments_lexer": "ipython3",
   "version": "3.9.4"
  }
 },
 "nbformat": 4,
 "nbformat_minor": 4
}
