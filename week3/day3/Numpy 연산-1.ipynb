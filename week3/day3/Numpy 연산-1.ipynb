{
 "cells": [
  {
   "cell_type": "markdown",
   "metadata": {},
   "source": [
    "# Numpy 로 연산하기"
   ]
  },
  {
   "cell_type": "markdown",
   "metadata": {},
   "source": [
    "## Vector와 Scalar 사이의 연산\n",
    "벡터의각 원소에 대해서 연산을 진행\n",
    "\n",
    "$$\n",
    "x=\\left(\\begin{array}{l}\n",
    "1 \\\\\n",
    "2 \\\\\n",
    "3\n",
    "\\end{array}\\right) \\quad c=5\n",
    "$$"
   ]
  },
  {
   "cell_type": "code",
   "execution_count": 2,
   "metadata": {},
   "outputs": [
    {
     "name": "stdout",
     "output_type": "stream",
     "text": [
      "더하기 : [6 7 8]\n",
      "빼기 : [-4 -3 -2]\n",
      "곱하기 : [ 5 10 15]\n",
      "나누기 : [0.2 0.4 0.6]\n"
     ]
    }
   ],
   "source": [
    "import numpy as np\n",
    "x = np.array([1,2,3])\n",
    "c = 5\n",
    "\n",
    "print(f\"더하기 : {x+c}\")\n",
    "print(f\"빼기 : {x-c}\")\n",
    "print(f\"곱하기 : {x*c}\")\n",
    "print(f\"나누기 : {x/c}\")\n"
   ]
  },
  {
   "cell_type": "code",
   "execution_count": null,
   "metadata": {},
   "outputs": [],
   "source": [
    " "
   ]
  },
  {
   "cell_type": "markdown",
   "metadata": {},
   "source": [
    "## Vector와 Scalar 사이의 연산\n",
    "벡터의각 원소에 대해서 연산을 진행\n",
    "\n",
    "\n",
    "$$\n",
    "y=\\left(\\begin{array}{l}\n",
    "1 \\\\\n",
    "3 \\\\\n",
    "5\n",
    "\\end{array}\\right) \\quad z=\\left(\\begin{array}{c}\n",
    "2 \\\\\n",
    "9 \\\\\n",
    "20\n",
    "\\end{array}\\right)\n",
    "$$"
   ]
  },
  {
   "cell_type": "code",
   "execution_count": 3,
   "metadata": {},
   "outputs": [
    {
     "name": "stdout",
     "output_type": "stream",
     "text": [
      "더하기 : [ 3 12 25]\n",
      "빼기 : [ -1  -6 -15]\n",
      "곱하기 : [  2  27 100]\n",
      "나누기 : [0.5        0.33333333 0.25      ]\n"
     ]
    }
   ],
   "source": [
    "y = np.array([1,3,5])\n",
    "z = np.array([2,9,20])\n",
    "\n",
    "print(f\"더하기 : {y+z}\")\n",
    "print(f\"빼기 : {y-z}\")\n",
    "print(f\"곱하기 : {y*z}\")\n",
    "print(f\"나누기 : {y/z}\")"
   ]
  },
  {
   "cell_type": "markdown",
   "metadata": {},
   "source": [
    " "
   ]
  },
  {
   "cell_type": "markdown",
   "metadata": {},
   "source": [
    "## Array의 Indexing\n",
    "Array에서 특정 위치의 원소를 가져오기\n",
    "\n",
    "$$\n",
    "W=\\left(\\begin{array}{cccc}\n",
    "1 & 2 & 3 & 4 \\\\\n",
    "5 & 6 & 7 & 8 \\\\\n",
    "9 & 10 & 11 & 12\n",
    "\\end{array}\\right)\n",
    "$$"
   ]
  },
  {
   "cell_type": "code",
   "execution_count": 6,
   "metadata": {},
   "outputs": [
    {
     "data": {
      "text/plain": [
       "1"
      ]
     },
     "execution_count": 6,
     "metadata": {},
     "output_type": "execute_result"
    }
   ],
   "source": [
    "W = np.array([[1,2,3,4],\n",
    "             [5,6,7,8],\n",
    "             [9,10,11,12]])\n",
    "W[0,0]"
   ]
  },
  {
   "cell_type": "code",
   "execution_count": 7,
   "metadata": {},
   "outputs": [
    {
     "data": {
      "text/plain": [
       "7"
      ]
     },
     "execution_count": 7,
     "metadata": {},
     "output_type": "execute_result"
    }
   ],
   "source": [
    "# 7을 가져오려면?\n",
    "W[1,2]"
   ]
  },
  {
   "cell_type": "markdown",
   "metadata": {},
   "source": [
    " "
   ]
  },
  {
   "cell_type": "markdown",
   "metadata": {},
   "source": [
    "## Array의 Slicing\n"
   ]
  },
  {
   "cell_type": "code",
   "execution_count": 8,
   "metadata": {},
   "outputs": [
    {
     "data": {
      "text/plain": [
       "array([[2, 3],\n",
       "       [6, 7]])"
      ]
     },
     "execution_count": 8,
     "metadata": {},
     "output_type": "execute_result"
    }
   ],
   "source": [
    "W = np.array([[1,2,3,4],\n",
    "             [5,6,7,8],\n",
    "             [9,10,11,12]])\n",
    "\n",
    "\"\"\"\n",
    "2,3  -> 행: 인덱스 0~1 -> [0:2]\n",
    "6,7  -> 열: 인덱스 1~2 -> [1:3]\n",
    "\"\"\"\n",
    "W[0:2, 1:3]"
   ]
  },
  {
   "cell_type": "markdown",
   "metadata": {},
   "source": [
    " "
   ]
  },
  {
   "cell_type": "markdown",
   "metadata": {},
   "source": [
    " "
   ]
  },
  {
   "cell_type": "markdown",
   "metadata": {},
   "source": [
    "## Array의 Broadcasting\n",
    "\n",
    "> 기본적으로 같은 Type의 $\\operatorname{data}$ 에 대해서만 연산이 적용 가능 하지만 만약에 피연산자가 연산 가능하도록 변환이 가능하다면 연산이 가능 합니다.\n",
    "> 이를 **브로드 캐스팅** 이라고 한다.\n",
    "\n",
    "\n",
    "### 1. $M \\times N, M \\times 1$ 의 경우\n",
    "\n",
    "기존의 선형대수 문제에서는 다음의 식이 연산이 불가능 하다 왜냐하면 행렬의 차원 수가 서로 다르기 때문이다. \n",
    "\n",
    "$$\n",
    "\\left(\\begin{array}{lll}\n",
    "1 & 2 & 3 \\\\\n",
    "4 & 5 & 6 \\\\\n",
    "7 & 8 & 9\n",
    "\\end{array}\\right)+\\left(\\begin{array}{l}\n",
    "0 \\\\\n",
    "1 \\\\\n",
    "0\n",
    "\\end{array}\\right)\n",
    "$$\n",
    "\n",
    "#### 브로드캐스팅\n",
    "하지만, 브로드캐스팅을 적용하면 위의 연산이 다음과 같이 가능하다. 즉, 행령의 차원을 맞춰주여 연산아 가능하도록 하기 때문이다.\n",
    "\n",
    "$$\n",
    "\\left(\\begin{array}{lll}\n",
    "1 & 2 & 3 \\\\\n",
    "4 & 5 & 6 \\\\\n",
    "7 & 8 & 9\n",
    "\\end{array}\\right)+\\left(\\begin{array}{lll}\n",
    "0 & 0 & 0 \\\\\n",
    "1 & 1 & 1 \\\\\n",
    "0 & 0 & 0\n",
    "\\end{array}\\right)\n",
    "$$"
   ]
  },
  {
   "cell_type": "code",
   "execution_count": 11,
   "metadata": {},
   "outputs": [
    {
     "data": {
      "text/plain": [
       "array([[1, 2, 3],\n",
       "       [5, 6, 7],\n",
       "       [7, 8, 9]])"
      ]
     },
     "execution_count": 11,
     "metadata": {},
     "output_type": "execute_result"
    }
   ],
   "source": [
    "a = np.array([[1,2,3],\n",
    "            [4,5,6],\n",
    "            [7,8,9]])\n",
    "\n",
    "x = np.array([0,1,0])\n",
    "x = x[:, None]\n",
    "\n",
    "a + x"
   ]
  },
  {
   "cell_type": "markdown",
   "metadata": {},
   "source": [
    " "
   ]
  },
  {
   "cell_type": "markdown",
   "metadata": {},
   "source": [
    " "
   ]
  },
  {
   "cell_type": "markdown",
   "metadata": {},
   "source": [
    "### 2. $M \\times N, 1 \\times N$ 의 경우\n",
    "\n",
    "이 연산을 브로드 캐스티을 적용 하면 다음과 같다.\n",
    "\n",
    "$$\n",
    "\\left(\\begin{array}{lll}\n",
    "1 & 2 & 3 \\\\\n",
    "4 & 5 & 6 \\\\\n",
    "7 & 8 & 9\n",
    "\\end{array}\\right) \\times\\left(\\begin{array}{ccc}\n",
    "0 & 1 & -1\n",
    "\\end{array}\\right)\n",
    "$$\n",
    "\n",
    "#### 브로드 캐스팅\n",
    "\n",
    "$$\n",
    "\\left(\\begin{array}{ccc}\n",
    "1 & 2 & 3 \\\\\n",
    "4 & 5 & 6 \\\\\n",
    "7 & 8 & 9\n",
    "\\end{array}\\right) \\times \\begin{array}{ccc}\n",
    "0 & 1 & -1 \\\\\n",
    "0 & 1 & -1 \\\\\n",
    "0 & 1 & -1\n",
    "\\end{array}\n",
    "$$\n",
    "\n",
    "단, 이때의 연산을 행렬곱이 아니라 Element Wise 곱으로 계산 되는 점을 주의 해야 한다.\n",
    "\n",
    " "
   ]
  },
  {
   "cell_type": "code",
   "execution_count": 12,
   "metadata": {},
   "outputs": [
    {
     "data": {
      "text/plain": [
       "array([[ 0,  2, -3],\n",
       "       [ 0,  5, -6],\n",
       "       [ 0,  8, -9]])"
      ]
     },
     "execution_count": 12,
     "metadata": {},
     "output_type": "execute_result"
    }
   ],
   "source": [
    "y = np.array([0,1,-1])\n",
    "a * y"
   ]
  },
  {
   "cell_type": "markdown",
   "metadata": {},
   "source": [
    " "
   ]
  },
  {
   "cell_type": "markdown",
   "metadata": {},
   "source": [
    " "
   ]
  },
  {
   "cell_type": "markdown",
   "metadata": {},
   "source": [
    "### 3. $M \\times 1, 1 \\times N$ 의 경우\n",
    "\n",
    "이 경우, 각 행렬은 행과 열이 각각 정보가 없기 때문에 이를 서로 옆의 행렬로 부터 행,렬 정보를 가져와서 브로드캐스티을 진행 한다.\n",
    "다음과 같이 행렬이 존재한다고 가정해보자.\n",
    "\n",
    "$$\n",
    "\\left(\\begin{array}{l}\n",
    "1 \\\\\n",
    "2 \\\\\n",
    "3\n",
    "\\end{array}\\right)+\\left(\\begin{array}{lll}\n",
    "2 & 0 & -2\n",
    "\\end{array}\\right)\n",
    "$$\n",
    "\n",
    "#### 브로드 캐스팅 적용\n",
    "\n",
    "위의 식을 브로드 캐스팅을 적용하면 다음과 같은 계산이 가능 해진다.\n",
    "\n",
    "$$\n",
    "\\left(\\begin{array}{ccc}\n",
    "1 & 1 & 1 \\\\\n",
    "2 & 2 & 2 \\\\\n",
    "3 & 3 & 3\n",
    "\\end{array}\\right)+\\left(\\begin{array}{ccc}\n",
    "2 & 0 & -2 \\\\\n",
    "2 & 0 & -2 \\\\\n",
    "2 & 0 & -2\n",
    "\\end{array}\\right)\n",
    "$$"
   ]
  },
  {
   "cell_type": "code",
   "execution_count": 20,
   "metadata": {},
   "outputs": [
    {
     "data": {
      "text/plain": [
       "array([[ 3,  1, -1],\n",
       "       [ 4,  2,  0],\n",
       "       [ 5,  3,  1]])"
      ]
     },
     "execution_count": 20,
     "metadata": {},
     "output_type": "execute_result"
    }
   ],
   "source": [
    "t = np.array([1,2,3])\n",
    "t = t[:, None]\n",
    "u = np.array([2,0,-2])\n",
    "\n",
    "t + u"
   ]
  }
 ],
 "metadata": {
  "kernelspec": {
   "display_name": "Python 3",
   "language": "python",
   "name": "python3"
  },
  "language_info": {
   "codemirror_mode": {
    "name": "ipython",
    "version": 3
   },
   "file_extension": ".py",
   "mimetype": "text/x-python",
   "name": "python",
   "nbconvert_exporter": "python",
   "pygments_lexer": "ipython3",
   "version": "3.9.4"
  },
  "metadata": {
   "interpreter": {
    "hash": "aee8b7b246df8f9039afb4144a1f6fd8d2ca17a180786b69acc140d282b71a49"
   }
  }
 },
 "nbformat": 4,
 "nbformat_minor": 4
}
