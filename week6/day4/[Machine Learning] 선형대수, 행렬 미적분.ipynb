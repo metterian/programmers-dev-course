{
 "cells": [
  {
   "cell_type": "markdown",
   "id": "1ff45f45-a391-4949-b3ef-797dc1c7db57",
   "metadata": {},
   "source": [
    "## 들어가며\n",
    "### 선형대수를 왜 알아야 하는가?\n",
    "\n",
    "DL(Deep Learning)을 이해하기 위해서는 선형대수 + 행렬미분 + 확률의 기초지식이 필요합니다. 최근에 사용되는 Transformer의 경우 attention matrix를 사용하는데 \n",
    "\n",
    "$$\n",
    "\\operatorname{Att}_{\\leftrightarrow}(Q, K, V)=D^{-1} A V, A=\\exp \\left(Q K^{T} / \\sqrt{d}\\right), D=\\operatorname{diag}\\left(A 1_{L}\\right)\n",
    "$$\n",
    "\n",
    "이러한 경우 행렬에 대한 이해가 필요합니다. 이번 포스팅의 목표는 선형대수와 행렬 미분의 기초를 배우고 간단히 머신러닝 알고리즘(PCA)를 유도 해보고자 합니다."
   ]
  },
  {
   "cell_type": "markdown",
   "id": "83b5c394-4991-41a8-86b2-3db7326d3e5f",
   "metadata": {},
   "source": [
    "## 기본 표기법 (Basic Notation)\n",
    "\n",
    "- $A\\in \\mathbb{R}^{m\\times n}$는 $m$개의 행과 $n$개의 열을 가진 행렬을 의미한다.\n",
    "- $x \\in \\mathbb{R}^n$는 $n$개의 원소를 가진 벡터를 의미한다. $n$차원 벡터는 $n$개의 행과 1개의 열을 가진 행렬로 생각할 수도 있다. 이것을 열벡터(column vector)로 부르기도 한다. 만약, 명시적으로 행벡터(row vector)를 표현하고자 한다면, $x^T$($T$는 transpose를 의미)로 쓴다.\n",
    "- 벡터 $x$의 $i$번째 원소는 $x_i$로 표시한다.\n",
    "\n",
    "\n",
    "$$\n",
    "x=\\left[\\begin{array}{c}\n",
    "x_{1} \\\\\n",
    "x_{2} \\\\\n",
    "\\vdots \\\\\n",
    "x_{n}\n",
    "\\end{array}\\right]\n",
    "$$\n",
    "\n",
    "\n",
    "- $a_{ij}$(또는 $A_{ij}, A_{i,j}$)는 행렬 $A$의 $i$번째 행, $j$번째 열에 있는 원소를 표시한다.\n",
    "\n",
    "$$\n",
    "A=\\left[\\begin{array}{cccc}\n",
    "a_{11} & a_{12} & \\cdots & a_{1 n} \\\\\n",
    "a_{21} & a_{22} & \\cdots & a_{2 n} \\\\\n",
    "\\vdots & \\vdots & \\ddots & \\vdots \\\\\n",
    "a_{m 1} & a_{m 2} & \\cdots & a_{m n}\n",
    "\\end{array}\\right]\n",
    "$$\n",
    "\n",
    "- $A$의 $j$번째 열을 $a_j$ 혹은 $A_{:,j}$로 표시한다.\n",
    "\n",
    "$$\n",
    "A=\\left[\\begin{array}{cccc}\n",
    "\\mid & \\mid & & \\mid \\\\\n",
    "a_{1} & a_{2} & \\cdots & a_{n} \\\\\n",
    "\\mid & \\mid & & \\mid\n",
    "\\end{array}\\right]\n",
    "$$\n",
    "\n",
    "- $A$의 $i$번째 행을 $a_i^T$ 혹은 $A_{i,:}$로 표시한다.\n",
    "\n",
    "$$\n",
    "A=\\left[\\begin{array}{ccc}\n",
    "- & a_{1}^{T} & - \\\\\n",
    "- & a_{2}^{T} & - \\\\\n",
    "& \\vdots & \\\\\n",
    "- & a_{m}^{T} & -\n",
    "\\end{array}\\right]\n",
    "$$\n"
   ]
  },
  {
   "cell_type": "markdown",
   "id": "c1562798-7db9-4e74-a0c3-5c2523a2a309",
   "metadata": {},
   "source": [
    "### Python에서 벡터, 행렬의 표현 방법"
   ]
  },
  {
   "cell_type": "code",
   "execution_count": 1,
   "id": "83004b44-7b1c-496e-9f0c-ab465f5f6aa9",
   "metadata": {},
   "outputs": [],
   "source": [
    "import numpy as np"
   ]
  },
  {
   "cell_type": "code",
   "execution_count": 2,
   "id": "01c016ca-9fa7-4444-a69a-d1ff8da40718",
   "metadata": {},
   "outputs": [],
   "source": [
    "x = np.array([10.5, 5.2, 3.25])"
   ]
  },
  {
   "cell_type": "code",
   "execution_count": 3,
   "id": "b7df86d1-0ec9-49bf-b219-1de5cc0cfb23",
   "metadata": {},
   "outputs": [
    {
     "data": {
      "text/plain": [
       "(3,)"
      ]
     },
     "execution_count": 3,
     "metadata": {},
     "output_type": "execute_result"
    }
   ],
   "source": [
    "x.shape\n",
    "# (3,)"
   ]
  },
  {
   "cell_type": "markdown",
   "id": "b3a51ae2-c6f3-4669-9e18-3990d0425fb9",
   "metadata": {},
   "source": [
    "위의 결과 같이 (3,)으로 표시가 된다. 이는 1차원 배열을 나타낸다"
   ]
  },
  {
   "cell_type": "markdown",
   "id": "302d1438-5c89-4843-8745-aa6bbe8f7f86",
   "metadata": {},
   "source": [
    " "
   ]
  },
  {
   "cell_type": "markdown",
   "id": "7b79cbf2-2091-458f-a682-261105a03b7a",
   "metadata": {},
   "source": [
    "`numpy.expand_dims(a, axis)`\n",
    "- Expand the shape of an array.\n",
    "\n",
    "`np.expand_dims` 메소드를 사용해서 차원의 크기를 임의로 크게해 수 있습니다. 이는 우리가 이전의 포스팅에서 `x[:, np.newaxis]`으로 차원의 크기를 늘려주었던 방법과 동일한 방법입니다. 또한, `axis` 인자를 통해 열의 방향으로 확장할 것인지, 행의 방향으로 확장할 것인지를 지정 할 수있습니다"
   ]
  },
  {
   "cell_type": "code",
   "execution_count": 10,
   "id": "41313159-52c3-4090-95e5-003788dc226d",
   "metadata": {},
   "outputs": [
    {
     "data": {
      "text/plain": [
       "array([[10.5 ],\n",
       "       [ 5.2 ],\n",
       "       [ 3.25]])"
      ]
     },
     "execution_count": 10,
     "metadata": {},
     "output_type": "execute_result"
    }
   ],
   "source": [
    "np.expand_dims(x, axis=1) # column 방향으로 확장"
   ]
  },
  {
   "cell_type": "code",
   "execution_count": 5,
   "id": "644305a9-f00f-4131-962b-0989174bcbba",
   "metadata": {},
   "outputs": [
    {
     "data": {
      "text/plain": [
       "(3, 1)"
      ]
     },
     "execution_count": 5,
     "metadata": {},
     "output_type": "execute_result"
    }
   ],
   "source": [
    "np.expand_dims(x, axis=1).shape"
   ]
  },
  {
   "cell_type": "code",
   "execution_count": 7,
   "id": "67140613-7faf-4bee-9a0c-89835663755c",
   "metadata": {},
   "outputs": [
    {
     "data": {
      "text/plain": [
       "array([[10.5 ,  5.2 ,  3.25]])"
      ]
     },
     "execution_count": 7,
     "metadata": {},
     "output_type": "execute_result"
    }
   ],
   "source": [
    "np.expand_dims(x, axis=0) # row 방향으로 확장,  x[np.newaxis, :] or x[np.newaxis]와 동일한 방법"
   ]
  },
  {
   "cell_type": "code",
   "execution_count": 8,
   "id": "803ce95e-8167-4069-834e-5260953065aa",
   "metadata": {},
   "outputs": [
    {
     "data": {
      "text/plain": [
       "(1, 3)"
      ]
     },
     "execution_count": 8,
     "metadata": {},
     "output_type": "execute_result"
    }
   ],
   "source": [
    "np.expand_dims(x, axis=0).shape"
   ]
  },
  {
   "cell_type": "markdown",
   "id": "8e61f331-2c10-432f-972e-ec9231cd38ed",
   "metadata": {},
   "source": [
    " "
   ]
  },
  {
   "cell_type": "code",
   "execution_count": 11,
   "id": "af3a0f5a-5c97-4d79-a67b-080c07110017",
   "metadata": {},
   "outputs": [],
   "source": [
    "A = np.array([\n",
    "    [10, 20, 30],\n",
    "    [40, 50, 60]\n",
    "])"
   ]
  },
  {
   "cell_type": "code",
   "execution_count": 13,
   "id": "258921fe-c28e-4e44-b7a8-87210e9c70c7",
   "metadata": {},
   "outputs": [
    {
     "data": {
      "text/plain": [
       "(2, 3)"
      ]
     },
     "execution_count": 13,
     "metadata": {},
     "output_type": "execute_result"
    }
   ],
   "source": [
    "A.shape"
   ]
  },
  {
   "cell_type": "code",
   "execution_count": 14,
   "id": "954dc976-f80e-44bc-926c-697f2348a00d",
   "metadata": {},
   "outputs": [
    {
     "data": {
      "text/plain": [
       "30"
      ]
     },
     "execution_count": 14,
     "metadata": {},
     "output_type": "execute_result"
    }
   ],
   "source": [
    "A[0,2] # equivalent A[0][2]"
   ]
  },
  {
   "cell_type": "code",
   "execution_count": 16,
   "id": "0d1950fe-3381-44ce-bed9-0c7e01be7f8e",
   "metadata": {},
   "outputs": [
    {
     "data": {
      "text/plain": [
       "array([20, 50])"
      ]
     },
     "execution_count": 16,
     "metadata": {},
     "output_type": "execute_result"
    }
   ],
   "source": [
    "# Column vector\n",
    "A[:, 1]"
   ]
  },
  {
   "cell_type": "markdown",
   "id": "0b5f993f-1bba-4496-8ef5-d5e8fe822540",
   "metadata": {},
   "source": [
    "위 벡터는 column 벡터를 추출하였지만, row 벡터 인 것처럼 보입니다. 이는 단순히 표기를 1차원 배열로 한 것일 뿐입니다."
   ]
  },
  {
   "cell_type": "code",
   "execution_count": 17,
   "id": "c61e59bc-60e9-465d-aee1-ef2734482ee9",
   "metadata": {},
   "outputs": [
    {
     "data": {
      "text/plain": [
       "array([40, 50, 60])"
      ]
     },
     "execution_count": 17,
     "metadata": {},
     "output_type": "execute_result"
    }
   ],
   "source": [
    "# Row vector\n",
    "A[1, :]"
   ]
  },
  {
   "cell_type": "markdown",
   "id": "c0b89c1e-c878-4be2-be9f-8b9fccd63fea",
   "metadata": {},
   "source": [
    " "
   ]
  },
  {
   "cell_type": "markdown",
   "id": "b7313ffe-5d57-461f-8cae-5fe078e16f34",
   "metadata": {},
   "source": [
    " "
   ]
  },
  {
   "cell_type": "markdown",
   "id": "368d1e87-0e52-45c1-a415-e8cfef7c3305",
   "metadata": {},
   "source": [
    "## 행렬의 곱셈(Matrix Muliplication)\n",
    "\n",
    "두 개의 행렬 $A\\in \\mathbb{R}^{m\\times n}$, $B\\in \\mathbb{R}^{n\\times p}$의 곱 $C = AB \\in \\mathbb{R}^{m\\times p}$는 다음과 같이 정의된다.\n",
    "\n",
    "$$C_{ij} = \\sum_{k=1}^n A_{ik}B_{kj}$$\n",
    "\n",
    "행렬의 곱셈을 이해하는 몇 가지 방식들이 존재 합니다. \n",
    "- 벡터 $\\times$ 벡터\n",
    "- 행렬 $\\times$ 벡터\n",
    "- 행렬 $\\times$ 행렬"
   ]
  },
  {
   "cell_type": "markdown",
   "id": "65b54ccb-4293-4b73-88fc-e2177ad8cede",
   "metadata": {},
   "source": [
    "### 벡터 $\\times$ 벡터 (Vector-Vector Products)\n",
    "\n",
    "두 개의 벡터 $x, y\\in \\mathbb{R}^n$이 주어졌을 때 **내적**(inner product 또는 dot product) $x^Ty$는 다음과 같이 정의된다.\n",
    "\n",
    "$$\n",
    "x^{T} y \\in \\mathbb{R}=\\left[\\begin{array}{llll}\n",
    "x_{1} & x_{2} & \\cdots & x_{n}\n",
    "\\end{array}\\right]\\left[\\begin{array}{c}\n",
    "y_{1} \\\\\n",
    "y_{2} \\\\\n",
    "\\vdots \\\\\n",
    "y_{n}\n",
    "\\end{array}\\right]=\\sum_{i=1}^{n} x_{i} y_{i}\n",
    "$$\n",
    "\n",
    "$$\n",
    "x^{T} y=y^{T} x\n",
    "$$"
   ]
  },
  {
   "cell_type": "code",
   "execution_count": 18,
   "id": "190abc0f-bd01-4905-bfa6-a17502cecafc",
   "metadata": {},
   "outputs": [
    {
     "data": {
      "text/plain": [
       "32"
      ]
     },
     "execution_count": 18,
     "metadata": {},
     "output_type": "execute_result"
    }
   ],
   "source": [
    "x = np.array([1,2,3])\n",
    "y = np.array([4,5,6])\n",
    "x.dot(y)"
   ]
  },
  {
   "cell_type": "markdown",
   "id": "2bc3d3ff-39e4-4c3e-b3be-fca59c31750d",
   "metadata": {},
   "source": [
    "#### 외적\n",
    "외적을 구할 때는 두 벡터의 차원이 다른 경우입니다. 내적의 경우에는 두 벡터의 차원이 같은 경우입니다.\n",
    "두 개의 벡터 $x\\in \\mathbb{R}^m, y\\in \\mathbb{R}^n$이 주어졌을 때 외적(outer product) $xy^T\\in \\mathbb{R}^{m\\times n}$는 다음과 같이 정의된다.\n",
    "\n",
    "여기서 기억해야 할 점은 내적을 구했을 때는 스칼라값을 얻을 수 있었지만, 외적을 구했을 떄는 행령을 얻을 수 있습니다.\n",
    "\n",
    "$$\n",
    "\\left.x y^{T_{*}} \\in \\mathbb{R}^{m \\times n}=\\left[\\begin{array}{c}\n",
    "x_{1} \\\\\n",
    "x_{2} \\\\\n",
    "\\vdots \\\\\n",
    "x_{m}\n",
    "\\end{array}\\right]\\left[\\begin{array}{lll}\n",
    "y_{1} & y_{2} & \\cdots\n",
    "\\end{array}\\right]_{n}\\right]=\\left[\\begin{array}{cccc}\n",
    "x_{1} y_{1} & x_{1} y_{2} & \\cdots & x_{1} y_{n} \\\\\n",
    "x_{2} y_{1} & x_{2} y_{2} & \\cdots & x_{2} y_{n} \\\\\n",
    "\\vdots & \\vdots & \\ddots & \\vdots \\\\\n",
    "x_{m} y_{1} & x_{m} y_{2} & \\cdots & x_{m} y_{n}\n",
    "\\end{array}\\right]\n",
    "$$"
   ]
  },
  {
   "cell_type": "code",
   "execution_count": 19,
   "id": "a2330ee7-db14-47a3-86cf-edd3dab99317",
   "metadata": {},
   "outputs": [],
   "source": [
    "x = np.array([1,2,3])\n",
    "y = np.array([4,5,6])"
   ]
  },
  {
   "cell_type": "code",
   "execution_count": 20,
   "id": "0688dbb5-b1ff-4a3a-8e11-83d79bfa81ad",
   "metadata": {},
   "outputs": [
    {
     "data": {
      "text/plain": [
       "((3, 1), (1, 3))"
      ]
     },
     "execution_count": 20,
     "metadata": {},
     "output_type": "execute_result"
    }
   ],
   "source": [
    "x = np.expand_dims(x, axis=1) # column 방향으로 추가\n",
    "y = np.expand_dims(y, axis=0) # row 방향으로 추가\n",
    "x.shape, y.shape # x: column vector, y: row vector"
   ]
  },
  {
   "cell_type": "code",
   "execution_count": 22,
   "id": "cbd8aeb3-c083-4439-9e1b-167595b865f6",
   "metadata": {},
   "outputs": [
    {
     "data": {
      "text/plain": [
       "array([[1],\n",
       "       [2],\n",
       "       [3]])"
      ]
     },
     "execution_count": 22,
     "metadata": {},
     "output_type": "execute_result"
    }
   ],
   "source": [
    "x"
   ]
  },
  {
   "cell_type": "code",
   "execution_count": 23,
   "id": "24befbde-6a3b-4b0e-a1c7-0c95b18d0a2a",
   "metadata": {},
   "outputs": [
    {
     "data": {
      "text/plain": [
       "array([[4, 5, 6]])"
      ]
     },
     "execution_count": 23,
     "metadata": {},
     "output_type": "execute_result"
    }
   ],
   "source": [
    "y"
   ]
  },
  {
   "cell_type": "code",
   "execution_count": 24,
   "id": "b4dbaf0e-8e95-445d-84ab-1be1d3abeda0",
   "metadata": {},
   "outputs": [
    {
     "data": {
      "text/plain": [
       "array([[ 4,  5,  6],\n",
       "       [ 8, 10, 12],\n",
       "       [12, 15, 18]])"
      ]
     },
     "execution_count": 24,
     "metadata": {},
     "output_type": "execute_result"
    }
   ],
   "source": [
    "np.matmul(x,y)"
   ]
  },
  {
   "cell_type": "markdown",
   "id": "6725c91e-9387-43dc-9d83-8be644e4567c",
   "metadata": {},
   "source": [
    " "
   ]
  },
  {
   "cell_type": "markdown",
   "id": "bdb2d324-b238-42d6-ba20-3a758dfc7aef",
   "metadata": {},
   "source": [
    "#### 외적이 유용한 경우\n",
    "외적이 유용한 경우는 다음과 같습니다. 행렬 $A$는 모든 colummn이 동일한 벡터 $x$를 가지고 있다고 가정해 봅시다. 외적을 이용하면 간편하게 $x \\mathbf{1}^{T}$로 나타낼 수 있습니다. ($1 \\in \\mathbb{R}^{n}$은 모든 원소가 1인 $n$-차원 벡터)\n",
    "\n",
    "$$\n",
    "A=\\left[\\begin{array}{llll}\n",
    "\\mid & \\mid & & \\mid \\\\\n",
    "x & x & \\cdots & x \\\\\n",
    "\\mid & \\mid & & \\mid\n",
    "\\end{array}\\right]=\\left[\\begin{array}{cccc}\n",
    "x_{1} & x_{1} & \\cdots & x_{1} \\\\\n",
    "x_{2} & x_{2} & \\cdots & x_{2} \\\\\n",
    "\\vdots & \\vdots & \\ddots & \\vdots \\\\\n",
    "x_{m} & x_{m} & \\cdots & x_{m}\n",
    "\\end{array}\\right]=\\left[\\begin{array}{c}\n",
    "x_{1} \\\\\n",
    "x_{2} \\\\\n",
    "\\vdots \\\\\n",
    "x_{m}\n",
    "\\end{array}\\right]\\left[\\begin{array}{llll}\n",
    "1 & 1 & \\cdots & 1\n",
    "\\end{array}\\right]=x \\mathbf{1}^{T}\n",
    "$$"
   ]
  },
  {
   "cell_type": "code",
   "execution_count": 27,
   "id": "ccad9197-78ad-40b9-a2d1-12eeab90a419",
   "metadata": {},
   "outputs": [
    {
     "data": {
      "text/plain": [
       "array([[1],\n",
       "       [2],\n",
       "       [3]])"
      ]
     },
     "execution_count": 27,
     "metadata": {},
     "output_type": "execute_result"
    }
   ],
   "source": [
    "# column 벡터\n",
    "x = np.expand_dims(np.array([1,2,3]), axis=1)\n",
    "x"
   ]
  },
  {
   "cell_type": "code",
   "execution_count": 28,
   "id": "f9cb4295-990b-4705-94fb-a87b958eb969",
   "metadata": {},
   "outputs": [],
   "source": [
    "ones = np.ones([1,4])"
   ]
  },
  {
   "cell_type": "code",
   "execution_count": 31,
   "id": "f6716cd4-3367-4e38-8f48-ff1432ae77b1",
   "metadata": {},
   "outputs": [
    {
     "data": {
      "text/plain": [
       "array([[1., 1., 1., 1.],\n",
       "       [2., 2., 2., 2.],\n",
       "       [3., 3., 3., 3.]])"
      ]
     },
     "execution_count": 31,
     "metadata": {},
     "output_type": "execute_result"
    }
   ],
   "source": [
    "A = np.matmul(x, ones)\n",
    "A"
   ]
  },
  {
   "cell_type": "markdown",
   "id": "cc1cce80-e2ad-45c7-ac7d-c4c0b067efb3",
   "metadata": {
    "tags": []
   },
   "source": [
    " "
   ]
  },
  {
   "cell_type": "markdown",
   "id": "53ea9feb-b98b-4389-b663-03231ad12842",
   "metadata": {},
   "source": [
    "### 행렬 $\\times$ 벡터 (Matrix-Vector Products)\n",
    "\n",
    "행렬 $A\\in \\mathbb{R}^{m\\times n}$와 벡터 $x\\in \\mathbb{R}^n$의 곱은 벡터 $y = Ax \\in \\mathbb{R}^m$이다. 이 곱을 몇 가지 측면에서 바라볼 수 있다.\n",
    "\n",
    "#### 열벡터를 오른쪽에 곱하고($Ax$), $A$가 행의 형태로 표현되었을 때\n",
    "\n",
    "$$\n",
    "y=A x=\\left[\\begin{array}{ccc}\n",
    "- & a_{1}^{T} & - \\\\\n",
    "- & a_{2}^{T} & - \\\\\n",
    "& \\vdots & \\\\\n",
    "- & a_{m}^{T} & -\n",
    "\\end{array}\\right] x=\\left[\\begin{array}{c}\n",
    "a_{1}^{T} x \\\\\n",
    "a_{2}^{T} x \\\\\n",
    "\\vdots \\\\\n",
    "a_{m}^{T} x\n",
    "\\end{array}\\right]\n",
    "$$"
   ]
  },
  {
   "cell_type": "code",
   "execution_count": 32,
   "id": "fb370880-2293-4134-9335-ba2a6a197a53",
   "metadata": {},
   "outputs": [],
   "source": [
    "A = np.array([\n",
    "    [1,2,3],\n",
    "    [4,5,6]\n",
    "])"
   ]
  },
  {
   "cell_type": "code",
   "execution_count": 33,
   "id": "25362539-38c2-462a-9acd-f11d2ec1f3c3",
   "metadata": {},
   "outputs": [
    {
     "data": {
      "text/plain": [
       "array([[1.],\n",
       "       [1.],\n",
       "       [1.]])"
      ]
     },
     "execution_count": 33,
     "metadata": {},
     "output_type": "execute_result"
    }
   ],
   "source": [
    "ones = np.ones([3,1])\n",
    "ones"
   ]
  },
  {
   "cell_type": "code",
   "execution_count": 34,
   "id": "32178e23-2791-45fc-992e-9551b7103cf3",
   "metadata": {},
   "outputs": [
    {
     "data": {
      "text/plain": [
       "array([[ 6.],\n",
       "       [15.]])"
      ]
     },
     "execution_count": 34,
     "metadata": {},
     "output_type": "execute_result"
    }
   ],
   "source": [
    "np.matmul(A, ones)"
   ]
  },
  {
   "cell_type": "markdown",
   "id": "fd0edee3-b353-4953-9a82-8b1c90ae67f3",
   "metadata": {},
   "source": [
    "#### column 벡터를 오른쪽에 곱하고, $A$가 Column의 형태로 표현 되었을 때\n",
    "\n",
    "$$\n",
    "y=A x=\\left[\\begin{array}{cccc}\n",
    "\\mid & \\mid & & 1 \\\\\n",
    "a_{1} & a_{2} & \\cdots & a_{n} \\\\\n",
    "\\mid & \\mid & & \\mid\n",
    "\\end{array}\\right]\\left[\\begin{array}{c}\n",
    "x_{1} \\\\\n",
    "x_{2} \\\\\n",
    "\\vdots \\\\\n",
    "x_{n}\n",
    "\\end{array}\\right]=\\left[\\begin{array}{c}\n",
    "1 \\\\\n",
    "a_{1} \\\\\n",
    "1\n",
    "\\end{array}\\right] x_{1}+\\left[\\begin{array}{c}\n",
    "1 \\\\\n",
    "a_{2} \\\\\n",
    "1\n",
    "\\end{array}\\right] x_{2}+\\cdots+\\left[\\begin{array}{c}\n",
    "1 \\\\\n",
    "a_{n} \\\\\n",
    "1\n",
    "\\end{array}\\right] x_{n}\n",
    "$$"
   ]
  },
  {
   "cell_type": "code",
   "execution_count": 36,
   "id": "04a6027a-5916-4611-ae94-f6657f7a67f7",
   "metadata": {},
   "outputs": [
    {
     "data": {
      "text/plain": [
       "array([[4],\n",
       "       [5]])"
      ]
     },
     "execution_count": 36,
     "metadata": {},
     "output_type": "execute_result"
    }
   ],
   "source": [
    "A = np.array([\n",
    "    [1,0,1],\n",
    "    [0,1,1]\n",
    "])\n",
    "\n",
    "x = np.array([\n",
    "    [1],\n",
    "    [2],\n",
    "    [3]\n",
    "])\n",
    "np.matmul(A, x)"
   ]
  },
  {
   "cell_type": "code",
   "execution_count": 37,
   "id": "2b024b4c-a0df-417f-b06e-71a23f09d653",
   "metadata": {},
   "outputs": [
    {
     "name": "stdout",
     "output_type": "stream",
     "text": [
      "a_0: [1 0] \tx_0: [1] \ta_0*x_0: [1 0]\n",
      "a_1: [0 1] \tx_1: [2] \ta_1*x_1: [0 2]\n",
      "a_2: [1 1] \tx_2: [3] \ta_2*x_2: [3 3]\n"
     ]
    }
   ],
   "source": [
    "for i in range(A.shape[1]):\n",
    "    print('a_'+str(i)+':', A[:,i], '\\tx_'+str(i)+':', x[i], '\\ta_'+str(i)+'*x_'+str(i)+':', A[:,i]*x[i])"
   ]
  },
  {
   "cell_type": "markdown",
   "id": "b5e1372e-a4cf-40b3-9ec6-62c0147955cb",
   "metadata": {},
   "source": [
    " "
   ]
  },
  {
   "cell_type": "markdown",
   "id": "fd4d906f-fd8b-4e5c-ab3c-ed8c4ee2c31d",
   "metadata": {},
   "source": [
    "## 행렬 $\\times$ 행렬(Matrix-Matrix Product)\n",
    "\n",
    "행렬 $\\times$ 행렬 연산도 몇 가지 관점으로 접근할 수있다.\n",
    "\n",
    "### 일련의 벡터 $\\times$ 벡터 연산으로 표현 경우\n",
    "\n",
    "$A$와 $B$가 행 또는 열로 표현되었는가에 따라 두가지롤 나눌 수 있다.\n",
    "\n",
    "#### $A$가 행(row)으로 $B$가 열(column)로 표현되었을 때\n",
    "\n",
    "$$\n",
    "C=A B=\\left[\\begin{array}{ccc}\n",
    "- & a_{1}^{T} & - \\\\\n",
    "- & a_{2}^{T} & - \\\\\n",
    "\\vdots & \\\\\n",
    "- & a_{m}^{T} & -\n",
    "\\end{array}\\right]\\left[\\begin{array}{cccc}\n",
    "\\mid & \\mid & & \\mid \\\\\n",
    "b_{1} & b_{2} & \\cdots & b_{p} \\\\\n",
    "\\mid & \\mid & & \\mid\n",
    "\\end{array}\\right]=\\left[\\begin{array}{cccc}\n",
    "a_{1}^{T} b_{1} & a_{1}^{T} b_{2} & \\cdots & a_{1}^{T} b_{p} \\\\\n",
    "a_{2}^{T} b_{1} & a_{2}^{T} b_{2} & \\cdots & a_{2}^{T} b_{p} \\\\\n",
    "\\vdots & \\vdots & \\ddots & \\vdots \\\\\n",
    "a_{m}^{T} b_{1} & a_{m}^{T} b_{2} & \\cdots & a_{m}^{T} b_{p}\n",
    "\\end{array}\\right]\n",
    "$$\n",
    "\n",
    "$A \\in \\mathbb{R}^{m \\times n}, B \\in \\mathbb{R}^{n \\times p}, a_{i} \\in \\mathbb{R}^{n}, b_{j} \\in \\mathbb{R}^{n}$ 이기 때문에 내적값들이 자연스럽게 정의된다. \n",
    "\n",
    "#### $A$가 열(column)으로 $B$가 행(row)로 표현되었을 때\n",
    "\n",
    "\n",
    "$$\n",
    "C=A B=\\left[\\begin{array}{cccc}\n",
    "\\mid & \\mid & & 1 \\\\\n",
    "a_{1} & a_{2} & \\cdots & a_{n} \\\\\n",
    "\\mid & \\mid & & \\mid\n",
    "\\end{array}\\right]\\left[\\begin{array}{ccc}\n",
    "- & b_{1}^{T} & - \\\\\n",
    "- & b_{2}^{T} & - \\\\\n",
    "\\vdots & \\\\\n",
    "- & b_{n}^{T} & -\n",
    "\\end{array}\\right]=\\sum_{i=1}^{n} a_{i} b_{i}^{T}\n",
    "$$\n",
    "\n",
    "$AB$는 모든 $i$에 대해서 $a_{i} \\in \\mathbb{R}^{m}$ 와 $b_{i} \\in \\mathbb{R}^{p}$ 의 외적의 합니다. $a_{i} b_{i}^{T}$의 차원은 $m \\times p$이다. $C$의 차원과 동일)\n",
    "\n",
    "내적이 아니라 외적이기 때문에 결과 값이 스칼라 값이 아니라, 행렬의 값을 출력하게 된다."
   ]
  },
  {
   "cell_type": "markdown",
   "id": "873f68f3-d4b5-4595-a839-c25e97919fbe",
   "metadata": {},
   "source": [
    "### 일련의 행렬 \\times 벡터 연산으로 표현하는 경우\n",
    "\n",
    "#### $B$가 열(column)으로 표현 되었을 때\n",
    "\n",
    "$C = AB$ 일때 $C$의 열들을 A와 B의 열들의 곱으로 나타낼 수 있다\n",
    "\n",
    "$$\n",
    "C=A B=A\\left[\\begin{array}{cccc}\n",
    "\\mid & \\mid & & \\mid \\\\\n",
    "b_{1} & b_{2} & \\cdots & b_{p} \\\\\n",
    "\\mid & \\mid & & \\mid\n",
    "\\end{array}\\right]=\\left[\\begin{array}{cccc}\n",
    "\\mid & \\mid & & \\mid \\\\\n",
    "A b_{1} & A b_{2} & \\cdots & A b_{p} \\\\\n",
    "\\mid & \\mid & & \\mid\n",
    "\\end{array}\\right]\n",
    "$$\n",
    "\n",
    "각각의 $c_{i}=A b_{i}$는 앞에서 설펴본 행렬 $\\times$ 벡터의 두가지 관점에서 해석 할 수 있다.\n",
    "\n",
    "\n",
    "#### $A$가 행(row)로 표현 되었을 때\n",
    "\n",
    "$$\n",
    "C=A B=\\left[\\begin{array}{ccc}\n",
    "- & a_{1}^{T} & - \\\\\n",
    "- & a_{2}^{T} & - \\\\\n",
    "& \\vdots & \\\\\n",
    "- & a_{m}^{T} & -\n",
    "\\end{array}\\right] B=\\left[\\begin{array}{ccc}\n",
    "- & a_{1}^{T} R & - \\\\\n",
    "- & a_{2}^{T} B & - \\\\\n",
    "& \\vdots & \\\\\n",
    "- & a_{m}^{T} B & -\n",
    "\\end{array}\\right]\n",
    "$$"
   ]
  },
  {
   "cell_type": "markdown",
   "id": "499a327b-ea04-4608-8676-5795cd018dd5",
   "metadata": {},
   "source": [
    " "
   ]
  },
  {
   "cell_type": "markdown",
   "id": "ef82b3b8-4684-4723-b979-d765f2550719",
   "metadata": {},
   "source": [
    "### 정방(Square), 삼각(triangular), 대각(diagonal), 단위(identity) 행렬들\n",
    "\n",
    "정방행렬(square matrix): 행과 열의 개수가 동일\n",
    "$$\n",
    "\\begin{bmatrix}\n",
    "  4 & 9 & 2 \\\\\n",
    "  3 & 5 & 7 \\\\\n",
    "  8 & 1 & 6\n",
    "\\end{bmatrix}\n",
    "$$\n",
    "\n",
    "**상삼각행렬**(upper triangluar matrix): 정방 행렬 이면서, 주대각선 아래 원소들이 모두 0\n",
    "\n",
    "$$\n",
    "\\left[\\begin{array}{lll}\n",
    "4 & 9 & 2 \\\\\n",
    "0 & 5 & 7 \\\\\n",
    "0 & 0 & 6\n",
    "\\end{array}\\right]\n",
    "$$\n",
    "\n",
    "**하삼각행렬**(lower triangluar matrix): 정방 행렬 이면서, 주대각선 위 원소들이 모두 0\n",
    "\n",
    "$$\n",
    "\\left[\\begin{array}{lll}\n",
    "4 & 0 & 0 \\\\\n",
    "3 & 5 & 0 \\\\\n",
    "8 & 1 & 6\n",
    "\\end{array}\\right]\n",
    "$$\n",
    "\n",
    "\n",
    "**대각행렬**(digonal matrix): 정방행렬이면서, 주대각 원소들을 제외한 나머지 원소가 0\n",
    "\n",
    "$$\n",
    "\\left[\\begin{array}{lll}\n",
    "4 & 0 & 0 \\\\\n",
    "0 & 5 & 0 \\\\\n",
    "0 & 0 & 6\n",
    "\\end{array}\\right]\n",
    "$$\n",
    "\n",
    "`numpy.diag()` 메소드를 사용해서 대각행렬을 생성 할 수있습니다."
   ]
  },
  {
   "cell_type": "code",
   "execution_count": 3,
   "id": "52f2609c-fbaf-4210-8d1d-a7f76e3c460e",
   "metadata": {},
   "outputs": [
    {
     "data": {
      "text/plain": [
       "array([[4, 0, 0],\n",
       "       [0, 5, 0],\n",
       "       [0, 0, 6]])"
      ]
     },
     "execution_count": 3,
     "metadata": {},
     "output_type": "execute_result"
    }
   ],
   "source": [
    "np.diag([4,5,6]) # 주대각선의 원소만 입력"
   ]
  },
  {
   "cell_type": "markdown",
   "id": "75b20c6e-2d33-4c50-b3e7-cc0ee80c7446",
   "metadata": {},
   "source": [
    "**단위행렬**(identity matrix) : 대각행렬이면서, 주대각 원소들이 모두 1인 행렬\n",
    "\n",
    "$$\n",
    "\\left[\\begin{array}{lll}\n",
    "1 & 0 & 0 \\\\\n",
    "0 & 1 & 0 \\\\\n",
    "0 & 0 & 1\n",
    "\\end{array}\\right]\n",
    "$$\n",
    "\n",
    "`numpy.eye` 함수를 이용해 단위 행렬 생성이 가능"
   ]
  },
  {
   "cell_type": "code",
   "execution_count": 4,
   "id": "64e401b5-1113-4afb-aae8-78e7766144b0",
   "metadata": {},
   "outputs": [
    {
     "data": {
      "text/plain": [
       "array([[1., 0., 0.],\n",
       "       [0., 1., 0.],\n",
       "       [0., 0., 1.]])"
      ]
     },
     "execution_count": 4,
     "metadata": {},
     "output_type": "execute_result"
    }
   ],
   "source": [
    "np.eye(3)"
   ]
  },
  {
   "cell_type": "markdown",
   "id": "ab6f8ae7-6fcc-4578-b22a-9a233b0961a8",
   "metadata": {},
   "source": [
    "### 전치 (Transpose)\n",
    "\n",
    "행렬을 전치하는 것은 그 행렬을 뒤집는 것으로 생각할 수 있다. 행렬 $A\\in \\mathbb{R}^{m\\times n}$이 주어졌을 때 그것의 전치행렬은 $A^T \\in \\mathbb{R}^{n\\times m}$으로 표시하고 각 원소는 다음과 같이 주어진다.\n",
    "\n",
    "$$\n",
    "\\left( A^T \\right)_{ij} = A_{ji}\n",
    "$$\n",
    "\n",
    "다음의 성질들이 성립한다.\n",
    "\n",
    "- $(A^T)^T = A$\n",
    "- $\\left(AB\\right)^T = B^TA^T$\n",
    "- $(A + B)^T = A^T + B^T$\n",
    "\n",
    "$$\n",
    "A^T =\n",
    "\\begin{bmatrix}\n",
    "  1 & 2 & 3 \\\\\n",
    "  4 & 5 & 6\n",
    "\\end{bmatrix}^T =\n",
    "\\begin{bmatrix}\n",
    "  1 & 4 \\\\\n",
    "  2 & 5 \\\\\n",
    "  3 & 6\n",
    "\\end{bmatrix}\n",
    "$$\n",
    "\n",
    "Numpy의 `T` 속성(attribute)을 사용해서 전치행렬을 구할 수 있다."
   ]
  },
  {
   "cell_type": "markdown",
   "id": "7e541f0b-427b-42ee-bd2d-a1ffb57714fe",
   "metadata": {},
   "source": [
    " "
   ]
  },
  {
   "cell_type": "markdown",
   "id": "dc22abb5-7cba-435b-a568-04c7245be892",
   "metadata": {},
   "source": [
    "###  대칭행렬 (Symmetic Matrices)\n",
    "\n",
    "정방행렬 $A$가 $A^T$와 동일할 때 대칭행렬이라고 부른다. $A = -A^T$일 때는 반대칭(anti-symmetric)행렬이라고 부른다.\n",
    "\n",
    "\n",
    "주대각선을 원소를 기반으로 위쪽 원소와 아래족 원소가 같다면 대칭행렬이라고 할 수 있다.\n",
    "\n",
    "다음의 경우, 대칭행렬이라고 할 수 있다.\n",
    "\n",
    "$$\n",
    "\\left[\\begin{array}{ll}\n",
    "1 & 3 \\\\\n",
    "3 & 2\n",
    "\\end{array}\\right]=\\left[\\begin{array}{ll}\n",
    "1 & 3 \\\\\n",
    "3 & 2\n",
    "\\end{array}\\right]\n",
    "$$\n",
    "\n",
    "\n",
    "하지만, 다음의 경우는 대칭행렬이라고 할 수 없다\n",
    "\n",
    "$$\n",
    "\\left[\\begin{array}{ll}\n",
    "1 & 3 \\\\\n",
    "4 & 2\n",
    "\\end{array}\\right] \\neq\\left[\\begin{array}{ll}\n",
    "1 & 4 \\\\\n",
    "3 & 2\n",
    "\\end{array}\\right]\n",
    "$$\n",
    "\n",
    "$AA^T$는 항상 대칭행렬이다.\n",
    "\n",
    "$A + A^T$는 대칭, $A - A^T$는 반대칭이다.\n",
    "\n",
    "\n",
    "$$A = \\frac{1}{2}(A+A^T)+\\frac{1}{2}(A-A^T)$$"
   ]
  },
  {
   "cell_type": "markdown",
   "id": "4bc803a0-c095-40dd-8c8e-e9aeb32c415f",
   "metadata": {},
   "source": [
    " "
   ]
  },
  {
   "cell_type": "markdown",
   "id": "59019c99-847b-4a52-830e-2f6782eb094e",
   "metadata": {},
   "source": [
    "### 대각합 (Trace)\n",
    "\n",
    "정방행렬 $A\\in \\mathbb{R}^{n\\times n}$의 대각합은 $\\mathrm{tr}(A)$로 표시(또는 $\\mathrm{tr}A$)하고 그 값은 $\\sum_{i=1}^n A_{ii}$이다. 대각합은 다음과 같은 성질을 가진다.\n",
    "\n",
    "- For $A\\in \\mathbb{R}^{n\\times n}$, $\\mathrm{tr}A = \\mathrm{tr}A^T$\n",
    "    \n",
    "    대각합과 전치행렬의 대각합은 같다.\n",
    "- For $A,B\\in \\mathbb{R}^{n\\times n}$, $\\mathrm{tr}(A+B) = \\mathrm{tr}A + \\mathrm{tr}B$\n",
    "    행렬의 합을 구하고 대각합을 구하나, 대각합을 구하고 행렬의 합을 구한 것은 서로 같다.\n",
    "- For $A\\in \\mathbb{R}^{n\\times n}, t\\in\\mathbb{R}$, $\\mathrm{tr}(tA) = t\\,\\mathrm{tr}A$\n",
    "    대각합의 실수배는 값다.\n",
    "- For $A, B$ such that $AB$ is square, $\\mathrm{tr}AB = \\mathrm{tr}BA$\n",
    "    $AB$ 가 정방행렬일때, $\\mathrm{tr}AB = \\mathrm{tr}BA$\n",
    "- For $A, B, C$ such that $ABC$ is square, $\\mathrm{tr}ABC = \\mathrm{tr}BCA = \\mathrm{tr}CAB$, and so on for the product of more matrices\n",
    "    여러개의 행렬이 주어졌을때, 일련의 사이클을 따라서(A,B,C 순) 대각합을 구하면 같은 값을 같게 된다"
   ]
  },
  {
   "cell_type": "code",
   "execution_count": 5,
   "id": "88fb49ac-6c3e-49f1-aa63-3691ad57fd53",
   "metadata": {},
   "outputs": [
    {
     "data": {
      "text/plain": [
       "123"
      ]
     },
     "execution_count": 5,
     "metadata": {},
     "output_type": "execute_result"
    }
   ],
   "source": [
    "A = np.array([\n",
    "    [100,200,300],\n",
    "    [10, 20, 30],\n",
    "    [1,2,3,]\n",
    "])\n",
    "np.trace(A)"
   ]
  },
  {
   "cell_type": "markdown",
   "id": "be7dd5b9-3e1e-4202-9ddf-f5480e620e7b",
   "metadata": {},
   "source": [
    "### Norms\n",
    "\n",
    "벡터의 norm은 벡터의 길이로 이해할 수 있다. $l_2$ norm (Euclidean norm)은 다음과 같이 정의된다.\n",
    "\n",
    "$$\\left \\Vert x \\right \\|_2 = \\sqrt{\\sum_{i=1}^n{x_i}^2}$$\n",
    "\n",
    "$\\left \\Vert x \\right \\|_2^2 = x^Tx$임을 기억하라."
   ]
  },
  {
   "cell_type": "markdown",
   "id": "8363d1b1-d669-4831-95d2-40e5d9b4a2fa",
   "metadata": {},
   "source": [
    "$l_p$ norm\n",
    "\n",
    "$$\\left \\Vert x \\right \\|_p = \\left(\\sum_{i=1}^n|{x_i}|^p\\right)^{1/p}$$\n",
    "\n",
    "Frobenius norm (행렬에 대해서)\n",
    "\n",
    "$$\\left \\Vert A \\right \\|_F = \\sqrt{\\sum_{i=1}^m\\sum_{j=1}^n A_{ij}^2} = \\sqrt{\\mathrm{tr}(A^TA)}$$"
   ]
  },
  {
   "cell_type": "code",
   "execution_count": 7,
   "id": "d9712c08-8fb7-4eaf-9d32-dfadb5c31868",
   "metadata": {},
   "outputs": [
    {
     "name": "stdout",
     "output_type": "stream",
     "text": [
      "376.0505285197722\n",
      "376.0505285197722\n"
     ]
    }
   ],
   "source": [
    "A = np.array([\n",
    "    [100,200,300],\n",
    "    [10, 20, 30],\n",
    "    [1,2,3,]\n",
    "])\n",
    "\n",
    "print(np.linalg.norm(A))\n",
    "print(np.trace(A @ A.T)**0.5)"
   ]
  },
  {
   "cell_type": "markdown",
   "id": "fb888476-7254-4f6f-97bf-fbf8fb0d416a",
   "metadata": {},
   "source": [
    " "
   ]
  },
  {
   "cell_type": "markdown",
   "id": "a7a90d01-df87-46ed-b433-a0c8ca0552e9",
   "metadata": {},
   "source": [
    "## 선형독립과 랭크(Rank)\n",
    "\n",
    "벡터들의 집합 $\\left\\{x_{1}, x_{2}, \\ldots, x_{n}\\right\\} \\subset \\mathbb{R}^{m}$에 속하는 어떤 벡터도 나머지 벡터들의 선형 조합으로 나타 낼 수 없을 때 이를 선형독립(linear independent)라고 하고, 역으로 어떤 벡터가 나머지 벡터들을 선형 조합으로 나타내질 수 있을 때 이를 선형 종속이라고 부른다"
   ]
  },
  {
   "cell_type": "code",
   "execution_count": 8,
   "id": "7a2bdd29-1c20-443b-b442-8401e33b8cea",
   "metadata": {},
   "outputs": [],
   "source": [
    "A = np.array([\n",
    "    [1,4,2],\n",
    "    [2,1,-3],\n",
    "    [3,5,-1]\n",
    "])"
   ]
  },
  {
   "cell_type": "markdown",
   "id": "132a5449-5ffa-4916-80f3-da8be5eee867",
   "metadata": {},
   "source": [
    "위의 행렬은 Column에 대해서 종속(dependent)되어 있습니다. 왜냐하면 한 열을 통해 다른 열을 표현 할 수 있기 때문입니다.\n"
   ]
  },
  {
   "cell_type": "code",
   "execution_count": 9,
   "id": "215c8143-9c69-41ec-a2e2-a85c3ecf913c",
   "metadata": {},
   "outputs": [
    {
     "data": {
      "text/plain": [
       "array([ True,  True,  True])"
      ]
     },
     "execution_count": 9,
     "metadata": {},
     "output_type": "execute_result"
    }
   ],
   "source": [
    "A[:, 2] == -2*A[:, 0] + A[:, 1]"
   ]
  },
  {
   "cell_type": "markdown",
   "id": "5c1e909f-2fdf-4f9e-a29d-1dcf0bec5644",
   "metadata": {},
   "source": [
    "Column rank: 행렬 $A\\in \\mathbb{R}^{m\\times n}$의 열들의 부분집합 중에서 가장 큰 선형독립인 집합의 크기\n",
    "\n",
    "Row rank: 행렬 $A\\in \\mathbb{R}^{m\\times n}$의 행들의 부분집합 중에서 가장 큰 선형독립인 집합의 크기\n",
    "\n",
    "모든 행렬의 column rank와 row rank는 동일하다. 따라서 단순히 $\\mathrm{rank}(A)$로 표시한다. 다음의 성질들이 성립한다.\n",
    "\n",
    "- For $A\\in \\mathbb{R}^{m\\times n}$, $\\mathrm{rank}(A) \\leq \\min(m, n)$. If $\\mathrm{rank}(A) = \\min(m, n)$, then $A$ is said to be ***full rank***.\n",
    "- For $A\\in \\mathbb{R}^{m\\times n}$, $\\mathrm{rank}(A) = \\mathrm{rank}(A^T)$.\n",
    "- For $A\\in \\mathbb{R}^{m\\times n}, B\\in \\mathbb{R}^{n\\times p}$, $\\mathrm{rank}(A+B) \\leq \\min(\\mathrm{rank}(A), \\mathrm{rank}(B))$.\n",
    "- For $A, B\\in \\mathbb{R}^{m\\times n}$, $\\mathrm{rank}(A+B) \\leq \\mathrm{rank}(A) + \\mathrm{rank}(B)$."
   ]
  },
  {
   "cell_type": "code",
   "execution_count": 10,
   "id": "7d12c58c-7884-4b37-b8ed-8b5682ad60c9",
   "metadata": {},
   "outputs": [
    {
     "data": {
      "text/plain": [
       "2"
      ]
     },
     "execution_count": 10,
     "metadata": {},
     "output_type": "execute_result"
    }
   ],
   "source": [
    "np.linalg.matrix_rank(A)"
   ]
  },
  {
   "cell_type": "markdown",
   "id": "deb25a3b-3aff-4029-9f21-10647c24b20c",
   "metadata": {},
   "source": [
    "### 역행렬 (The Inverse)\n",
    "\n",
    "정방행렬 $A\\in \\mathbb{R}^{n\\times n}$의 역행렬 $A^{-1}$은 다음을 만족하는 정방행렬($\\in \\mathbb{R}^{n\\times n}$)이다.\n",
    "\n",
    "$$A^{-1}A = I = AA^{-1}$$\n",
    "\n",
    "$A$의 역행렬이 존재할 때, $A$를 ***invertible*** 또는 ***non-singular***하다고 말한다.\n",
    "\n",
    "- $A$의 역행렬이 존재하기 위해선 $A$는 full rank여야 한다.\n",
    "- $(A^{-1})^{-1} = A$\n",
    "- $(AB)^{-1} = B^{-1}A^{-1}$\n",
    "- $(A^{-1})^T = (A^T)^{-1}$"
   ]
  },
  {
   "cell_type": "code",
   "execution_count": 12,
   "id": "9ef7405a-2011-4fc2-b797-a520de1ba03d",
   "metadata": {},
   "outputs": [
    {
     "data": {
      "text/plain": [
       "array([[-2. ,  1. ],\n",
       "       [ 1.5, -0.5]])"
      ]
     },
     "execution_count": 12,
     "metadata": {},
     "output_type": "execute_result"
    }
   ],
   "source": [
    "A = np.array([\n",
    "        [1, 2],\n",
    "        [3, 4],\n",
    "    ])\n",
    "np.linalg.inv(A)"
   ]
  },
  {
   "cell_type": "markdown",
   "id": "22feaae4-af4d-4ccd-a0bb-232536735dde",
   "metadata": {},
   "source": [
    "### 직교 행렬 (Orthogonal Matrices)\n",
    "\n",
    "$x^Ty=0$가 성립하는 두 벡터 $x, y \\in \\mathbb{R}^n$를 직교(orthogonal)라고 부른다. $\\|x\\|_2 = 1$인 벡터 $x\\in \\mathbb{R}^n$를 정규화(normalized)된 벡터라고 부른다.\n",
    "\n",
    "모든 열들이 서로 직교이고 정규화된 정방행렬 $U\\in \\mathbb{R}^{n\\times n}$를 직교행렬이라고 부른다. 따라서 다음이 성립한다.\n",
    "\n",
    "- $U^TU = I$\n",
    "- $UU^T = I$ 이건 밑에서 증명\n",
    "- $U^{-1} = U^T$\n",
    "- $\\|Ux\\|_2 = \\|x\\|_2$ for any $x\\in \\mathbb{R}^{n}$\n",
    "    $\\|U x\\|_{2}=\\sqrt{(U x)^{\\top}(U x)}=\\sqrt{x^{\\top} U^{\\top} v x}=\\sqrt{x^{\\top} x}=\\|x\\|_{2}$\n",
    "\n",
    "직교 행렬의 이러한 성질 때문에 직교 행렬을 이용하면 선형시스템의 해를 구하기 쉽습니다. 왜냐하면 직교행렬의 역행렬을 구하기 위해서 단순히 직교행렬의 전치행렬만 구하면 되기 때문이죠\n"
   ]
  },
  {
   "cell_type": "markdown",
   "id": "b6320715-2e83-4acd-8e70-ea5565cc364a",
   "metadata": {},
   "source": [
    "$$\n",
    "U=\\left[\\begin{array}{l}\n",
    "\\mid \\\\\n",
    "u_{1} \\ldots \\\\\n",
    "\\mid\n",
    "\\end{array}\\right] \\quad U^{\\top}=\\left[\\begin{array}{c}\n",
    "-u_{1}^{\\top}- \\\\\n",
    "\\vdots\n",
    "\\end{array}\\right]\n",
    "$$\n",
    "\n",
    "$$\n",
    "U^T U = \\left[\\begin{array}{c}\n",
    "-u_{1}^{\\top}- \\\\\n",
    "\\vdots\n",
    "\\end{array}\\right]\n",
    "\\left[\\begin{array}{i}\n",
    "\\mid \\\\\n",
    "j \\ldots \\\\\n",
    "\\mid\n",
    "\\end{array}\\right]\n",
    "$$\n",
    "\n",
    "$$\n",
    "\\left(U^{\\top} u\\right)_{i j}=u_{\\vec{u}}^{\\top} u_{j}\\left\\{\\begin{array}{ll}\n",
    "0 & i \\neq j \\\\\n",
    "1 & i = j\n",
    "\\end{array}\\right.\n",
    "$$\n"
   ]
  },
  {
   "source": [
    "### 치역(Range), 영공간(Nullspace)\n",
    "\n",
    "#### 벡터의 집합($\\{x_1,x_2,\\ldots,x_n\\}$)에 대한 생성(span)\n",
    "주어진 행렬을 선형결합을 통해 만들 수 있는 차원을 생성(span)한다고 표현한다.\n",
    "\n",
    "$$\\mathrm{span}(\\{x_1,x_2,\\ldots,x_n\\}) = \\left\\{ v : v = \\sum_{i=1}^n\\alpha_i x_i, \\alpha_i \\in \\mathbb{R} \\right\\}$$\n",
    "\n",
    "#### 행렬의 치역 (range)\n",
    "행렬 $A\\in \\mathbb{R}^{m\\times n}$의 치역 $\\mathcal{R}(A)$는 A의 **모든 열들에 대한 생성**(span)이다.\n",
    "\n",
    "즉, 주어진 행렬을 사용하여 만들 수 있는 행렬변환 혹은 차원을 치역이라고 한다. 여기서 조심해야 할 부분은 치역의 차원이 $n$ 차원이라는 점이다. 즉, column의 수만큼 치역의 차원이 만들어 진다는 것이다.\n",
    "\n",
    "$$\\mathcal{R}(A) = \\{ v\\in \\mathbb{R}^m : v = Ax, x\\in \\mathbb{R}^n\\}$$\n",
    "\n",
    "#### 영공간 (nullspace)\n",
    "행렬 $A\\in \\mathbb{R}^{m\\times n}$의 영공간(nullspace) $\\mathcal{N}(A)$는 $A$와 곱해졌을 때 0이 되는 모든 벡터들의 집합이다. 여기서도 주의 해야할 점은 영공간의 차원은 주어진 행렬의 row의 갯수와 같다는 점이다. 즉, row의 차원 수만큼 영공간의 차원이 결정 된다.\n",
    "$$\\mathcal{N}(A) = \\{x\\in \\mathbb{R}^n : Ax = 0\\}$$\n",
    "\n",
    "\n",
    "치역의 차원과 영공간의 차원을 살펴보면 다음과 같다. 치역의 경우 column 수가 치역의 차원 수를 결정하고, 영공간의 경우 row의 수가 영공간의 차원을 결정한다. 그러므로 주어진 행렬의 전치행렬(transpose)의 치역을 구하면 영공간의 차원과 동일게 된다. \n",
    "\n",
    "이말을 해석하면, 치역은 A행렬의 column을 기준으로 차원을 구성하고, 영공간은 row 벡터들을 기준으로 차원을 생성한다고 이해하면 쉽다.\n",
    "\n",
    "**중요한 성질**:\n",
    "\n",
    "위의 성질 통해 다음과 같은 성질이 유도 될 수 있다. 임의의 $n$차원 실수 공간 $\\mathbb{R}^n$에서 임의의 원소 $w$를 뽑았다고 가정해보자. 이때 이 원소 $w$는 $\\mathcal{R}(A^T)$에 속한 원소 $u$와 $\\mathcal{N}(A)$에 속한 원소 $v$로 분해(decompose)될 수 있다.\n",
    "\n",
    "이는 $\\mathcal{N}(A)$ 과 $\\mathcal{R}(A^T)$를 합하면 실수 전체의 원소 집합 $\\mathbb{R}^n$이 만들어 진다는 의미이도 하다.\n",
    "\n",
    "\n",
    "$$\\{w : w = u + v, u\\in \\mathcal{R}(A^T), v \\in \\mathcal{N}(A)\\} = \\mathbb{R}^n ~\\mathrm{and}~ \\mathcal{R}(A^T) \\cap \\mathcal{N}(A) = \\{0\\}$$\n",
    "\n",
    "$\\mathcal{R}(A^T)$와 $\\mathcal{N}(A)$를 직교여공간(orthogonal complements)라고 부르고 $\\mathcal{R}(A^T) = \\mathcal{N}(A)^\\perp$라고 표시한다.\n",
    "\n",
    "#### 투영 (projection)\n",
    "\n",
    "$\\mathcal{R}(A)$위로 벡터 $y\\in \\mathbb{R}^m$의 투영(projection)은 다음과 같이 나타낼 수 있습니다. \n",
    "\n",
    "투영의 의미는 단순히 선을 임의의 공간에 투영시켰다 라는 의미 보다는 임의의 좌표 혹은 원소를 주어진 행렬(A)의 차원에서 가장 가까운 점을 구하는 의미 입니다. (직각으로 내릴 꼿았기 때문에 가장 가까운 위치)\n",
    "\n",
    "$$\\mathrm{Proj}(y;A) = \\mathop{\\mathrm{argmin}}_{v\\in \\mathcal{R}(A)} \\| v - y \\|_2 = A(A^TA)^{-1}A^Ty$$\n",
    "\n",
    "\n",
    "$U^TU = I$인 정방행렬 $U$는 $UU^T = I$임을 보이기\n",
    "- $U$의 치역은 전체공간이므로 임의의 $y$에 대해 $\\mathrm{Proj}(y;U) = y$이어야 한다.\n",
    "- 모든 $y$에 대해 $U(U^TU)^{-1}Uy = y$이어야 하므로 $U(U^TU)^{-1}U^T= I$이다.\n",
    "- 따라서 $UU^T = I$이다."
   ],
   "cell_type": "markdown",
   "metadata": {}
  },
  {
   "source": [
    "### 행렬식 (Determinant)\n",
    "\n",
    "정방행렬 $A\\in \\mathbb{R}^{n\\times n}$의 행렬식(determinant) $|A|$ (또는 $\\det A$)는 다음과 같이 계산할 수 있다.\n",
    "\n",
    "$|A| = A_{1,1}\\times|A^{(1,1)}| - A_{1,2}\\times|A^{(1,2)}| + A_{1,3}\\times|A^{(1,3)}| - A_{1,4}\\times|A^{(1,4)}| + \\cdots ± A_{1,n}\\times|A^{(1,n)}|$\n",
    "\n",
    "where $A^{(i,j)}$ is the matrix $A$ without row $i$ and column $j$.\n",
    "\n",
    "$A = \\begin{bmatrix}\n",
    "  1 & 2 & 3 \\\\\n",
    "  4 & 5 & 6 \\\\\n",
    "  7 & 8 & 0\n",
    "\\end{bmatrix}$\n",
    "\n",
    "위의 식을 사용하면 아래와 같이 전개된다.\n",
    "\n",
    "\\begin{align*}\n",
    "|A| = 1 \\times \\left | \\begin{bmatrix} 5 & 6 \\\\ 8 & 0 \\end{bmatrix} \\right |\n",
    "     - 2 \\times \\left | \\begin{bmatrix} 4 & 6 \\\\ 7 & 0 \\end{bmatrix} \\right |\n",
    "     + 3 \\times \\left | \\begin{bmatrix} 4 & 5 \\\\ 7 & 8 \\end{bmatrix} \\right |\n",
    "\\end{align*}\n",
    "\n",
    "이제 위의 $2 \\times 2$ 행렬들의 행렬식을 계산하면 된다.\n",
    "\n",
    "$\\left | \\begin{bmatrix} 5 & 6 \\\\ 8 & 0 \\end{bmatrix} \\right | = 5 \\times 0 - 6 \\times 8 = -48$\n",
    "\n",
    "$\\left | \\begin{bmatrix} 4 & 6 \\\\ 7 & 0 \\end{bmatrix} \\right | = 4 \\times 0 - 6 \\times 7 = -42$\n",
    "\n",
    "$\\left | \\begin{bmatrix} 4 & 5 \\\\ 7 & 8 \\end{bmatrix} \\right | = 4 \\times 8 - 5 \\times 7 = -3$\n",
    "\n",
    "최종결과는 다음과 같다.\n",
    "\n",
    "$|A| = 1 \\times (-48) - 2 \\times (-42) + 3 \\times (-3) = 27$"
   ],
   "cell_type": "markdown",
   "metadata": {}
  },
  {
   "cell_type": "code",
   "execution_count": 3,
   "metadata": {},
   "outputs": [
    {
     "output_type": "execute_result",
     "data": {
      "text/plain": [
       "27.0"
      ]
     },
     "metadata": {},
     "execution_count": 3
    }
   ],
   "source": [
    "A = np.array([\n",
    "        [1, 2, 3],\n",
    "        [4, 5, 6],\n",
    "        [7, 8, 0]\n",
    "    ])\n",
    "np.linalg.det(A)"
   ]
  },
  {
   "source": [
    "### 행렬식의 기하학적 해석\n",
    "다음과 같이 행렬이 주어 졌다고 가정 해 봅시다.\n",
    "\n",
    "$$\n",
    "\\left[\\begin{array}{ccc}\n",
    "- & a_{1}^{T} & - \\\\\n",
    "- & a_{2}^{T} & - \\\\\n",
    "& \\vdots & \\\\\n",
    "- & a_{n}^{T} & -\n",
    "\\end{array}\\right]\n",
    "$$\n",
    "\n",
    "이렇게 주어 졌을 때, 벡터들의 선형조합(단, 이 조합에서 쓰이는 계수들은 0에서 1사이)이 나타내는 $\\mathbb{R}^{n}$ 공간 상의 모든 점들의 집합 $S$를 생각해보자. 즉, 행렬식이라는 것도 원소와 벡터를 결합한 일종의 선형결합이다. 단, 여기서 벡터들과 곱해지는 $\\alpha$의 값은 0에서 1사이의 값을 갖는다고 해봅시다. 이를 식으로 표현하면 다음과 같습니다.\n",
    "\n",
    "$$\n",
    "S=\\left\\{v \\in \\mathbb{R}^{n}: v=\\sum_{i=1}^{n} \\alpha_{i} a_{i} \\text { where } 0 \\leq \\alpha_{i} \\leq 1, i=1, \\ldots, n\\right\\}\n",
    "$$\n",
    "\n",
    "위 식을 기하학적으로 해석하면, **행렬식의 절대값은 $S$의 부피(volume)과 일치합니다**\n",
    "\n",
    "\n",
    "예를 들어 행렬 $A$가 다음과 같이 주어졌다고 가정해 봅시다.\n",
    "\n",
    "$$\n",
    "A=\\left[\\begin{array}{ll}\n",
    "1 & 3 \\\\\n",
    "3 & 2\n",
    "\\end{array}\\right]\n",
    "$$\n",
    "\n",
    "위 행렬의 열벡터(column vector)들은 다음과 같습니다.\n",
    "\n",
    "$$\n",
    "a_{1}=\\left[\\begin{array}{l}\n",
    "1 \\\\\n",
    "3\n",
    "\\end{array}\\right] a_{2}=\\left[\\begin{array}{l}\n",
    "3 \\\\\n",
    "2\n",
    "\\end{array}\\right]\n",
    "$$\n",
    "\n",
    "위 열벡터들에 $\\alpha$를 곱하여 표현된 선형결합의 점들을 그림으로 표현하면 다음과 같습니다.\n",
    "\n",
    "![](https://github.com/learn-programmers/programmers_kdt_II/raw/d6f59b80fb967241f3a4b1ce8d610ee5b1b69ecd/images/fig_det.png)\n",
    "\n",
    "\n",
    "위 그림의 평행사변형 넓이는 7인데, $A$의 행렬식인 $|A|=-7$과 같음을 확일 할 수 있습니다.\n",
    "뒤에서 언급하겠지만, 확률변수에서 연속확률함수에서 확률을 구할 때 자코비안 행렬식을 사용하여 확률 값을 구했습니다. 이는 행렬식이 넓이 값과 같다는 의미과 연관이 있어서 행렬식을 통해서 확률값을 구했던 것입니다. \n",
    "\n"
   ],
   "cell_type": "markdown",
   "metadata": {}
  },
  {
   "source": [
    "### 행렬식의 중요한 성질들\n",
    "\n",
    "- $|I|=1$\n",
    "- $A$의 한 개의 row(행)에 $\\in \\mathbb{R}$를 스칼라배 하면, 행렬식은 $t|A|$이 됩니다.\n",
    "\n",
    "기하학적으로 생각해 보았을 때, 하나의 벡터에 스칼라배를 한다면 벡터의 길이가 스칼래배 만큼 들어나게 되고 그 만큼 면적의 크기도 늘어 나게 됩니다.\n",
    "\n",
    "$$\n",
    "\\left|\\left[\\begin{array}{ccc}\n",
    "- & t a_{1}^{T} & - \\\\\n",
    "- & a_{2}^{T} & - \\\\\n",
    "& \\vdots & \\\\\n",
    "- & a_{n}^{T} & -\n",
    "\\end{array}\\right]\\right|=t|A|\n",
    "$$\n",
    "\n",
    "- $A$의 두 row(행)을 교환하면 행렬식은 $-|A|$이 됩니다.\n",
    "\n",
    "$$\n",
    "\\left|\\left[\\begin{array}{ccc}\n",
    "- & a_{2}^{T} & - \\\\\n",
    "- & a_{1}^{T} & - \\\\\n",
    "& \\vdots & \\\\\n",
    "- & a_{n}^{T} & -\n",
    "\\end{array}\\right]\\right|=-|A|\n",
    "$$\n",
    "\n",
    "- For $A\\in \\mathbb{R}^{n\\times n}$, $|A| = |A^T|$.\n",
    "- For $A, B\\in \\mathbb{R}^{n\\times n}$, $|AB| = |A| |B|$.\n",
    "- For $A\\in \\mathbb{R}^{n\\times n}$, $|A|=0$, if and only if A is singular (non-invertible). $A$가 singular이면 행들이 linearly dependent할 것인데, 이 경우 $S$의 형태는 부피가 0인 납작한 판의 형태가 될 것이다.\n",
    "- For $A\\in \\mathbb{R}^{n\\times n}$ and $A$ non-singular, $|A^{-1}| = 1/|A|$.\n",
    "\n",
    "\n",
    "\n"
   ],
   "cell_type": "markdown",
   "metadata": {}
  },
  {
   "source": [
    "## 이차형식 (Quadratic Forms)\n",
    "\n",
    "2차인 항으로만 구성된 다항식을 이차형식 (quadratic form)이라 한다. $n$개 변수의 이차형식은 $n \\times n$ 대칭행렬 $A$를 이용하여 $x^{\\top} A x$의 형태로 표현 할 수 있다\n",
    "\n",
    "예를 들면, $4 x_{1}^{2}+5 x_{2}^{2}$, 혹은 $3 x_{1}^{2}-6 x_{1} x_{2}+7 x_{2}^{2}$과 같은 식이 이차 형식이다.\n",
    "\n",
    "이차형식 $a_{1} x_{1}^{2}+a_{2} x_{2}^{2}+a_{3} x_{3}^{2}+a_{4} x_{1} x_{2}+a_{5} x_{2} x_{3}+a_{6} x_{1} x_{3}$은 대칭행렬 $A$를 사용하여 $x^{\\top} A x$로 표현 할 수 있다.\n",
    "\n",
    "$$\n",
    "\\begin{aligned}\n",
    "a_{1} x_{1}^{2}+a_{2} x_{2}^{2}+a_{3} x_{3}^{2}+a_{4} x_{1} x_{2}+a_{5} x_{2} x_{3}+a_{6} x_{1} x_{3} &=\\left[x_{1} x_{2} x_{3}\\right]\\left[\\begin{array}{ccc}\n",
    "a_{1} & a_{4} / 2 & a_{6} / 2 \\\\\n",
    "a_{4} / 2 & a_{2} & a_{5} / 2 \\\\\n",
    "a_{6} / 2 & a_{5} / 2 & a_{3}\n",
    "\\end{array}\\right]\\left[\\begin{array}{l}\n",
    "x_{1} \\\\\n",
    "x_{2} \\\\\n",
    "x_{3}\n",
    "\\end{array}\\right] \\\\\n",
    "&=x^{\\top} A x\n",
    "\\end{aligned}\n",
    "$$\n",
    "\n",
    "\n",
    "단, 이차형식은 $3 x^{2}+4 x y+y^{2}$과 같이 모든 항의 차수가 2인 것을 말하고, 이차식(quadratic expreesion)은 $3 x^{2}+2 x y+5 x-6 y+3$ 과 같이 최고차항만 차수가 2인 식을 이차식이라고 한다.\n",
    "\n",
    "$x_{i}^{2}$ 의 계수를 $a_{i i}$ 에, $x_{i} x_{j}$ 의 계수의 $1 / 2$ 을 $a_{i j}$ 와 $a_{j i}$ 에 넣는다.\n",
    "\n",
    "다음이 성립함을 알 수 있다.\n",
    "\n",
    "$$x^TAx = (x^TAx)^T = x^TA^Tx = x^T\\left(\\frac{1}{2}A + \\frac{1}{2}A^T\\right)x$$\n",
    "\n",
    "즉, 위 식과 같이 행렬 $A$는 대칭행렬로 표현된다.\n",
    "\n",
    "따라서 이차형식에 나타나는 행렬을 대칭행렬로 가정하는 경우가 많다.\n",
    "\n",
    "- 대칭행렬 $A\\in \\mathbb{S}^n$이 0이 아닌 모든 벡터 $x\\in \\mathbb{R}^n$에 대해서 $x^TAx \\gt 0$을 만족할 때, 양의 정부호(positive definite)라고 부르고 $A\\succ 0$(또는 단순히 $A \\gt 0$)로 표시한다. 모든 양의 정부호 행렬들의 집합을 $\\mathbb{S}_{++}^n$으로 표시한다.\n",
    "- 대칭행렬 $A\\in \\mathbb{S}^n$이 0이 아닌 모든 벡터 $x\\in \\mathbb{R}^n$에 대해서 $x^TAx \\ge 0$을 만족할 때, 양의 준정부호(positive semi-definite)라고 부르고 $A\\succeq 0$(또는 단순히 $A \\ge 0$)로 표시한다. 모든 양의 준정부호 행렬들의 집합을 $\\mathbb{S}_{+}^n$으로 표시한다.\n",
    "- 대칭행렬 $A\\in \\mathbb{S}^n$이 0이 아닌 모든 벡터 $x\\in \\mathbb{R}^n$에 대해서 $x^TAx \\lt 0$을 만족할 때, 음의 정부호(negative definite)라고 부르고 $A\\prec 0$(또는 단순히 $A \\lt 0$)로 표시한다.\n",
    "- 대칭행렬 $A\\in \\mathbb{S}^n$이 0이 아닌 모든 벡터 $x\\in \\mathbb{R}^n$에 대해서 $x^TAx \\leq 0$을 만족할 때, 음의 준정부호(negative semi-definite)라고 부르고 $A\\preceq 0$(또는 단순히 $A \\leq 0$)로 표시한다.\n",
    "- 대칭행렬 $A\\in \\mathbb{S}^n$가 양의 준정부호 또는 음의 준정부호도 아닌 경우, 부정부호(indefinite)라고 부른다. 이것은 $x_1^TAx_1 > 0, x_2^TAx_2 < 0$을 만족하는 $x_1, x_2\\in \\mathbb{R}^n$이 존재한다는 것을 의미한다.\n",
    "\n",
    "Positive definite 그리고 negative definite 행렬은 full rank이며 따라서 invertible이다.\n",
    "\n",
    "#### Gram matrix\n",
    "임의의 행렬 $A\\in \\mathbb{R}^{m\\times n}$이 주어졌을 때 행렬 $G = A^TA$를 Gram matrix라고 부르고 항상 positive semi-definite이다. 만약 $m\\ge n$이고 $A$가 full rank이면, $G$는 positive definite이다.\n"
   ],
   "cell_type": "markdown",
   "metadata": {}
  },
  {
   "source": [
    "### 고유값 (Eigenvalues), 고유벡터 (Eigenvectors)\n",
    "\n",
    "정방행렬 $A\\in \\mathbb{R}^{n\\times n}$이 주어졌을 때,\n",
    "$$Ax = \\lambda x, x\\neq 0$$\n",
    "을 만족하는 $\\lambda \\in \\mathbb{C}$를 $A$의 고유값(eigenvalue) 그리고 $x\\in \\mathbb{C}^n$을 연관된 고유벡터(eigenvector)라고 부른다.\n",
    "\n",
    "\n",
    "고옷값과 고유벡터는 **정방행렬**에 의한 선형변환에 대해 정의되는 개념이다. 행렬을 시용하 여 선형변환할 때, 크기 비율만 바뀔 뿐 방향은 바뀌지 않는 벡터를 **고유벡터**라 하고, 이때 크기 변화 비율을 **고옷값**이라 한댜 따라서 고옷값과 고유벡터는 기본적으로 선형변환의 사상 과정에서 만들어지는 왜곡 distortion에 대한 정보를 제공한다.\n",
    "\n",
    "#### 고유값과 고유벡터의 계산\n",
    "\n",
    "고윳값과 고유벡터를 계산하기 위해서는 특정방정식(characteristic equation)을 이용하면 된다. 즉, $\\operatorname{det}(\\lambda I-A)=0$의 특성 방정식을 풀면 고윳값과 고유벡터를 찾을 수 있다.\n",
    "\n",
    "그 이유는 다음과 같다. 예를 들어 7이 고윳값이라고 가정한다면 행렬 $A$와 고유벡터 $x$는 다음 관계를 만족한다.\n",
    "\n",
    "$$\n",
    "\\begin{aligned}\n",
    "A x=7 x & & \\Rightarrow & 7 x-A x=0 \\\\\n",
    "& & \\Rightarrow &(7 I-A) x=0\n",
    "\\end{aligned}\n",
    "$$\n",
    "\n",
    "위의 행렬방정식 $(7 I-A) x=0$의 해를 구해보자. 영벡터는 고유벡터가 될 수 없기 때문에(실수로만 존재) trivial solution인 $x=0$아닌 해를 찾아야 한다. 즉, 고유벡터 $x$를 찾기 위해서는 $(7 I-A)$가 invertible해야 고유벡터를 구할 수 있다 떄문에 위와 같은 특정방정식을 통해 고윳값과 고유벡터를 구할 수 있다.\n",
    "\n",
    "\n",
    "\n",
    "\n",
    "`numpy.linalg` 모듈의 `eig` 함수를 사용하여 고유값과 고유벡터를 구할 수 있다."
   ],
   "cell_type": "markdown",
   "metadata": {}
  },
  {
   "cell_type": "code",
   "execution_count": 13,
   "metadata": {},
   "outputs": [
    {
     "output_type": "stream",
     "name": "stdout",
     "text": [
      "[0.43844719 4.56155281]\n[[-0.5392856  -0.36365914]\n [ 0.84212294 -0.93153209]]\n"
     ]
    }
   ],
   "source": [
    "A = np.array([\n",
    "    [2,1],\n",
    "    [4,3]\n",
    "])\n",
    "eigen_values, eigen_vectors = np.linalg.eig(A)\n",
    "print(eigen_values)\n",
    "print(eigen_vectors)"
   ]
  },
  {
   "source": [
    "#### 고유값, 고유벡터의 성질들\n",
    "\n",
    "- $\\mathrm{tr}A = \\sum_{i=1}^n \\lambda_i$\n",
    "    대각합은 고유값들을 합한 값고 같습니다.\n",
    "\n",
    "- $|A| = \\prod_{i=1}^n \\lambda_i$\n",
    "    행렬식은 고유값을 곱한 값과 같습니다.\n",
    "- $\\mathrm{rank}(A)$는 0이 아닌 $A$의 고유값의 개수와 같다.\n",
    "- $A$가 non-singular(invertibele, linearly independent)일 때, $1/\\lambda_i$는 $A^{-1}$의 고유값이다(고유벡터 $x_i$와 연관된). 즉, $A^{-1}x_i = (1/\\lambda_i)x_i$이다.\n",
    "\n",
    "이는 다음과 같이 쉽게 증명이 가능 하다. $A$가 가역 행렬리아면, $A x=\\lambda x$의 관계로 부터 다음 방정식을 유도 할 수 있다.\n",
    "\n",
    "$$\n",
    "\\begin{aligned}\n",
    "A x=\\lambda x & \\Rightarrow \\quad x=\\lambda A^{-1} x \\\\\n",
    "& \\Rightarrow \\quad A^{-1} x=\\frac{1}{\\lambda} x\n",
    "\\end{aligned}\n",
    "$$\n",
    "\n",
    "\n",
    "\n",
    "\n",
    "- 대각행렬 $D = \\mathrm{diag}(d_1,\\ldots,d_n)$의 고유값들은 $d_1,\\ldots,d_n$이다."
   ],
   "cell_type": "markdown",
   "metadata": {}
  },
  {
   "cell_type": "code",
   "execution_count": 16,
   "metadata": {},
   "outputs": [
    {
     "output_type": "execute_result",
     "data": {
      "text/plain": [
       "(array([21.282, -0.282,  0.   ]),\n",
       " array([[ 0.17485683,  0.85386809, -0.57735027],\n",
       "        [ 0.50887555,  0.18337571, -0.57735027],\n",
       "        [ 0.84289427, -0.48711666,  0.57735027]]))"
      ]
     },
     "metadata": {},
     "execution_count": 16
    }
   ],
   "source": [
    "A = np.array([\n",
    "        [1, 2, 3],\n",
    "        [4, 5, 9],\n",
    "        [7, 8, 15]\n",
    "    ])\n",
    "\n",
    "eigenvalues, eigenvectors = np.linalg.eig(A)\n",
    "eigenvalues.round(3), eigenvectors"
   ]
  },
  {
   "cell_type": "code",
   "execution_count": 15,
   "metadata": {},
   "outputs": [
    {
     "output_type": "execute_result",
     "data": {
      "text/plain": [
       "2"
      ]
     },
     "metadata": {},
     "execution_count": 15
    }
   ],
   "source": [
    "np.linalg.matrix_rank(A)"
   ]
  },
  {
   "source": [
    "모든 고유값과 고유벡터들을 다음과 같이 하나의 식으로 나타낼 수 있다.\n",
    "\n",
    "$$AX = X\\Lambda$$\n",
    "\n",
    "$$X\\in \\mathbb{R}^{n\\times n} = \n",
    "\\begin{bmatrix}\n",
    "    \\vert & \\vert & & \\vert\\\\\n",
    "    x_1 & x_2 & \\cdots & x_n\\\\\n",
    "    \\vert & \\vert & & \\vert\n",
    "\\end{bmatrix},~\n",
    "\\Lambda = \\mathrm{diag}(\\lambda_1,\\ldots,\\lambda_n)\n",
    "$$"
   ],
   "cell_type": "markdown",
   "metadata": {}
  },
  {
   "source": [
    "## 대칭 행렬일 떄의 고유값과 고유벡터\n",
    "\n",
    "행렬 $A$가 대칭행렬일 때, $A \\in \\mathbb{S}^{n}$ 다음과 같은 성질을 지닙니다.\n",
    "\n",
    "- $A$의 모든 고유값들은 실수값(real number)이다.\n",
    "\n",
    "원래, 주어진 행렬이 대칭행렬이 아니라면 고유값은 complex number 였습니다. 하지만, 대칭행렬일 경우 고유값은 실수값을 갖게 됩니다.\n",
    "\n",
    "- $A$의 고유벡터들은 orthonormal(정규 직교)성을 갖습니다.\n",
    "\n",
    "따라서, 임의이 대칭행렬 $A$를 $A=U \\Lambda U^{T}$ ($U$는 위의 $X$처럼 $A$의 고유벡터들로 이루어진 행렬)로 나타낼 수 있습니다.\n",
    "\n",
    "$A=U \\Lambda U^{T}$로 표현되는 이유는 다음과 같습니다. \n",
    "\n",
    "$$\n",
    "AU = U\\Lambda^T\\\\\n",
    "U^{-1} = U^T\\\\\n",
    "A=U \\Lambda U^{T}\n",
    "$$\n",
    "\n",
    "$A \\in \\mathbb{S}^{n}=U \\Lambda U^{T}$이라고 해봅시다. 그러면 이차형식(quadratic form)을 다음과 같이 표현 할 수 있습니다.\n",
    "\n",
    "$$\n",
    "x^{T} A x=x^{T} U \\Lambda U^{T} x=y^{T} \\Lambda y=\\sum_{i=1}^{n} \\lambda_{i} y_{i}^{2}\n",
    "$$\n",
    "\n",
    "where $y=U^Tx$\n",
    "\n",
    "$y_i^2$가 양수이므로 위 식의 부호는 $\\lambda_i$ 값들에 의해서 결정된다. 만약 모든 $\\lambda_i > 0$이면, $A$는 positive definite이고 모든 $\\lambda_i \\ge 0$이면, $A$는 positive seimi-definite이다.\n",
    "\n",
    "\n",
    "\n"
   ],
   "cell_type": "markdown",
   "metadata": {}
  },
  {
   "source": [
    "## 행렬미분(Matrix Calculus)\n",
    "\n",
    "$f\\left(x_{1}, x_{2}\\right)=x_{1}^{2}+2 x_{2}^{2}-x_{1} x_{2}$ 와 같이 두 개 이상의 변수를 포함 하는 함수를 **다변수 함수**(mlutivariate function)이라고 한다.\n",
    "\n",
    "### 다변수 함수의 벡터 미분과 그래디언트\n",
    "\n",
    "다변수 함수 $f\\left(x_{1}, x_{2}, \\cdots, x_{n}\\right)$의 벡터 $x=\\left[\\begin{array}{c}x_{1} \\\\ x_{2} \\\\ \\vdots \\\\ x_{n}\\end{array}\\right]$에 대한 미분 $\\frac{\\partial f}{\\partial x}$은 다음과 같이 각 변수에 대한 $f$의 편미분을 성분으로 같는 벡터이다.\n",
    "\n",
    "$$\n",
    "\\frac{\\partial f}{\\partial x}=\\left[\\begin{array}{c}\n",
    "\\frac{\\partial f}{\\partial x_{1}} \\\\\n",
    "\\frac{\\partial f}{\\partial x_{2}} \\\\\n",
    "\\vdots \\\\\n",
    "\\frac{\\partial f}{\\partial x_{n}}\n",
    "\\end{array}\\right]\n",
    "$$\n",
    "\n",
    "$\\frac{\\partial f}{\\partial x}$을 $f$의 **그래디언트**(gradient)라고 하며 $\\nabla f$라고 표기한다.\n",
    "\n",
    "그래디언트 $\\nabla f$ 는 주어진 위치 $\\left(x_{1}, x_{2}, \\cdots, x_{n}\\right)$ 에서 함수 $f$ 의 값이 가장 커지는 인접\n",
    "한 위치 방향으로의 벡터에 해당한다.\n",
    "\n",
    "항수의 최솟값 위치를 찾는 최적화 문제에 사용하는 경사하강법(gradient descent method)에서는 그래디언트의 반대 방향으로 위치를 조금씩 움직이면서 최솟값의 위치를 찾는다. 경사하강법은 머신러닝의 다양한 학습 알고리즘에서 널리 人梧공된다."
   ],
   "cell_type": "markdown",
   "metadata": {}
  },
  {
   "cell_type": "code",
   "execution_count": null,
   "metadata": {},
   "outputs": [],
   "source": []
  },
  {
   "source": [
    "### 벡터 함수의 스칼라 미분\n",
    "\n",
    "실수값을 반환하는 벡터함수 $F\\left(x_{1}, x_{2}, \\cdots, x_{n}\\right)=\\left[\\begin{array}{c}f_{1}\\left(x_{1}, x_{2}, \\cdots, x_{n}\\right) \\\\ f_{2}\\left(x_{1}, x_{2}, \\cdots, x_{n}\\right) \\\\ \\vdots \\\\ f_{n}\\left(x_{1}, x_{2}, \\cdots, x_{n}\\right)\\end{array}\\right]$가 주어졌을 때, 이 벡터함수의 변수 $x_{i}$에 대한 미분 $\\frac{\\partial F}{\\partial x_{i}}$은 다음과 같이 $F$의 각 성분의 $x_i$에 대한 편미분을 성분으로 같는 벡터이다.\n",
    "\n",
    "$$\n",
    "\\frac{\\partial F}{\\partial x_{i}}=\\left[\\begin{array}{llll}\n",
    "\\frac{\\partial f_{1}}{\\partial x_{i}} & \\frac{\\partial f_{2}}{\\partial x_{i}} & \\cdots & \\frac{\\partial f_{n}}{\\partial x_{i}}\n",
    "\\end{array}\\right]\n",
    "$$"
   ],
   "cell_type": "markdown",
   "metadata": {}
  },
  {
   "source": [
    "### 백터함수의 벡터 미분과 야코비안 행렬\n",
    "\n",
    "실수값을 반환하는 벡터함수 $F\\left(x_{1}, x_{2}, \\cdots, x_{n}\\right)=\\left[\\begin{array}{c}f_{1}\\left(x_{1}, x_{2}, \\cdots, x_{n}\\right) \\\\ f_{2}\\left(x_{1}, x_{2}, \\cdots, x_{n}\\right) \\\\ \\vdots \\\\ f_{n}\\left(x_{1}, x_{2}, \\cdots, x_{n}\\right)\\end{array}\\right]$가 주어졌을 때, 이 벡터함수의 변수 $x=\\left[\\begin{array}{c}x_{1} \\\\ x_{2} \\\\ \\vdots \\\\ x_{n}\\end{array}\\right]$에 대한 미분 $\\frac{\\partial F}{\\partial x}$은 다음과 같이 벡터함수의 각 성분의 편미분을 성분으로 갖는 행렬이다.\n",
    "\n",
    "\n",
    "$$\n",
    "\\frac{\\partial F}{\\partial x}=\\left[\\begin{array}{cccc}\n",
    "\\frac{\\partial f_{1}}{\\partial x_{1}} & \\frac{\\partial f_{2}}{\\partial x_{1}} & \\cdots & \\frac{\\partial f_{n}}{\\partial x_{1}} \\\\\n",
    "\\frac{\\partial f_{1}}{\\partial x_{2}} & \\frac{\\partial f_{2}}{\\partial x_{2}} & \\cdots & \\frac{\\partial f_{n}}{\\partial x_{2}} \\\\\n",
    "\\vdots & \\vdots & \\cdots & \\vdots \\\\\n",
    "\\frac{\\partial f_{1}}{\\partial x_{n}} & \\frac{\\partial f_{2}}{\\partial x_{n}} & \\cdots & \\frac{\\partial f_{n}}{\\partial x_{n}}\n",
    "\\end{array}\\right]\n",
    "$$\n",
    "\n",
    "$\\frac{\\partial F}{\\partial x}$를 야코비안 행렬(Jacobian matrix)또는 자코비안 행렬이라고 하며 $J_{F}$로 나타내기도 한다.\n",
    "\n",
    "\n",
    "자코비안 행렬은 다변수 벡터함수의 미분에 해당하므로, 벡터함수의 지역적 변화가 가장 큰 방향의 변화율을 나타낸다고 볼 수 있다.\n",
    "\n"
   ],
   "cell_type": "markdown",
   "metadata": {}
  },
  {
   "source": [
    "### 헤시안(Hessian) 행렬, 다변수 함수의 2차 함수 미분\n",
    "\n",
    "다변수 함수 $f\\left(x_{1}, x_{2}, \\cdots, x_{n}\\right)$의 벡터 $\\boldsymbol{x}=\\left[\\begin{array}{c}x_{1} \\\\ x_{2} \\\\ \\vdots \\\\ x_{n}\\end{array}\\right]$에 대한 2차 미분 $\\frac{\\partial^{2} f}{\\partial x^{2}}$은 다음과 같이 각 성분이 $f$의 2차 편미분으로 구성되는 행렬이다.\n",
    "\n",
    "$$\n",
    "\\frac{\\partial^{2} f}{\\partial x^{2}}=\\left[\\begin{array}{cccc}\n",
    "\\frac{\\partial^{2} f}{\\partial x_{1}^{2}} & \\frac{\\partial^{2} f}{\\partial x_{1} \\partial x_{2}} & \\cdots & \\frac{\\partial^{2} f}{\\partial x_{1} \\partial x_{n}} \\\\\n",
    "\\frac{\\partial^{2} f}{\\partial x_{2} \\partial x_{1}} & \\frac{\\partial^{2} f}{\\partial x_{2}^{2}} & \\cdots & \\frac{\\partial^{2} f}{\\partial x_{2} \\partial x_{n}} \\\\\n",
    "\\vdots & \\vdots & \\cdots & \\vdots \\\\\n",
    "\\frac{\\partial^{2} f}{\\partial x_{n} \\partial x_{1}} & \\frac{\\partial^{2} f}{\\partial x_{n} \\partial x_{2}} & \\cdots & \\frac{\\partial^{2} f}{\\partial x_{n}^{2}}\n",
    "\\end{array}\\right]\n",
    "$$\n",
    "\n",
    "$\\frac{\\partial^{2} f}{\\partial x^{2}}$을 헤시안 행렬(Hessian Matrix)이라고 하며 $H(f)$로 나타낼 수 있다."
   ],
   "cell_type": "markdown",
   "metadata": {}
  },
  {
   "source": [
    "#### 중요한 공식들\n",
    "\n",
    "A는 대칭 해렬일 때, 다음 조건을 만족한다.\n",
    "\n",
    "$x, b\\in \\mathbb{R}^n$, $A\\in \\mathbb{S}^n$일 때 다음이 성립한다.\n",
    "- $\\nabla_x b^Tx = b$\n",
    "- $\\nabla_x x^TAx = 2Ax$\n",
    "- $\\nabla_x^2 x^TAx = 2A$\n",
    "- $\\nabla_A \\log |A| = A^{-1}$ ($A\\in\\mathbb{S}_{++}^n$인 경우)"
   ],
   "cell_type": "markdown",
   "metadata": {}
  },
  {
   "source": [
    "## 최소제곱법(Least Squares)\n",
    "$Ax = b$ 라는 선형 시스템이 주어졌다고 가정해보자. 행렬 $A \\in \\mathbb{R}^{m \\times n}$ ($A$는 여기서 full rank)와 벡터 $b \\in \\mathbb{R}^{n}$가 주어졌고, $b \\notin \\mathcal{R}(A)$ 즉, $A$라는 선형 조합으로 벡터 $b$를 표현 할 수 없을때, $Ax = b$ 를 만족하는 벡터 $x \\in \\mathbb{R}^{n}$를 찾을 수 없습니다. \n",
    "\n",
    "이때, 선형 조합 $Ax$가 $b$와 가장 가까워지는 즉, \n",
    "\n",
    "$$\n",
    "\\|A x-b\\|_{2}^{2}\n",
    "$$\n",
    "\n",
    "을 최소화 시키는 $x$를 찾는 문제를 고려 할 수 있습니다. $\\|x\\|_{2}^{2}=x^{T} x$ 이므로, \n",
    "\n",
    "$$\n",
    "\\begin{aligned}\n",
    "\\|A x-b\\|_{2}^{2}=&(A x-b)^{T}(A x-b) \\\\\n",
    "=& x^{T} A^{T} A x-2 b^{T} A x+b^{T} b \\\\\n",
    "\\nabla_{x}\\left(x^{T} A^{T} A x-2 b^{T} A x+b^{T} b\\right) &=\\nabla_{x} x^{T} A^{T} A x-\\nabla_{x} 2 b^{T} A x+\\nabla_{x} b^{T} b \\\\\n",
    "&=2 A^{T} A x-2 A^{T} b\n",
    "\\end{aligned}\n",
    "$$\n",
    "\n",
    "위 식의 해를 0으로 놓고 $x$에 관하여 풀면 다음과 같은 식을 얻을 수 있고, 이를 Normal Equation이라고 합니다.\n",
    "\n",
    "$$\n",
    "x=\\left(A^{T} A\\right)^{-1} A^{T} b\n",
    "$$\n",
    "\n"
   ],
   "cell_type": "markdown",
   "metadata": {}
  },
  {
   "source": [
    "### 고유값과 최적화문제 (Eigenvalues as Optimization)\n",
    "\n",
    "다음 형태의 최적화문제를 행렬미분을 사용해 풀면 고유값이 최적해가 되는 것을 보일 수 있다.\n",
    "\n",
    "$$\n",
    "\\max_{x\\in \\mathbb{R}^n} x^TAx \\\\\n",
    "\\mathrm{~~~~subject~to~} \\|x\\|_2^2=1\n",
    "$$\n",
    "\n",
    "제약조건이 있는 최소화문제는 Lagrangian을 사용해서 해결\n",
    "\n",
    "$$\\mathcal{L}(x, \\lambda) = x^TAx - \\lambda x^Tx$$\n",
    "\n",
    "다음을 만족해야 함.\n",
    "\n",
    "$$\\nabla_x \\mathcal{L}(x, \\lambda) = \\nabla_x ( x^TAx - \\lambda x^Tx) = 2A^Tx - 2\\lambda x = 0$$\n",
    "\n",
    "따라서 최적해 $x$는 $Ax = \\lambda x$를 만족해야 하므로 $A$의 고유벡터만이 최적해가 될 수 있다. 고유벡터 $u_i$는\n",
    "\n",
    "$$u_i^TAu_i = \\sum_{j=1}^n \\lambda_j y_j^2 = \\lambda_i$$\n",
    "을 만족하므로($y=U^Tu_i$), 최적해는 가장 큰 고유값에 해당하는 고유벡터이다. 즉 이말을 다시 하면 이차형식에서 가장 최대화 되는 지점은 고유값이 나타나는 지점이라는 것 입니다."
   ],
   "cell_type": "markdown",
   "metadata": {}
  },
  {
   "source": [
    "## AutoEncoder와 PCA\n",
    "\n",
    "### 오토인코더(AutoEncoder)란?\n",
    "\n",
    "오터인코더를 설명하기에 앞서, 인코딩(encoding)의 의미는 아래 그림과 같이 높은 차원의 데이터를 낮은 차원(code 부분)으로 낮추는 것을 인코딩이라고 합니다. 역으로, 다시 원래의 높은 차원으로 복구시키는 과정은 Decoding이라고 합니다. \n",
    "\n",
    "이럴 과정이 왜 필요할 까요? 주어진 데이터가 고차원이거나 너무 커서 저장하기 어렵다면, 공간 효율성 측면에서 이를 축소해 저장해 놓고 이를 필요할 때마다 다시 고차원으로 복원하여 사용하는 것이 효율적일 것입니다. 이러한 바탕에서 나온 개념이 바로 오토 인코더 입니다. 참고로 이러한 차원 축소(dimension reduction)이라고 합니다. \n",
    "\n",
    "![](https://github.com/learn-programmers/programmers_kdt_II/raw/d6f59b80fb967241f3a4b1ce8d610ee5b1b69ecd/images/autoencoder.png)\n",
    "\n",
    "\n",
    "### AutoEncoder의 적용사례\n",
    "\n",
    "- 차원축소(Dimensionality Reduction)\n",
    "- Image Compression\n",
    "- Image Denoising(이미지 노이즈 줄이기)\n",
    "- Feature Extraction\n",
    "- Image generation\n",
    "- Sequence to Sequence prediction\n",
    "- 추천시스템\n",
    "\n",
    "\n",
    "### PCA(Principal Component Analysis)\n",
    "\n",
    "우리가 이전에 배운 PCA를 가장 간단한 형태의 autoencoder라고 생각할 수 있습니다. 이러한 관점에서 PCA를 유도할 것인데, 위에서 설명한 내용으로도 충분히 설명 합니다.\n",
    "\n",
    "$m$개의 점들 $\\left\\{x_{1}, \\ldots, x_{m}\\right\\}, x_{i} \\in \\mathbb{R}^{n}$ 이 주저쳤다고 가정해봅시다. 각각의 점들을 $l$차원 공간으로 투영시키는 함수 $f(x)=c \\in \\mathbb{R}^{l}$와 이것을 다시 $n$차원 공간으로 회복하는 함수 $g(c)$를 생각해봅시다. 이를 정리하면,$f$를 인코딩 함수 $g$를 디코딩 함수라고 하고,\n",
    "\n",
    "\n",
    "$$\n",
    "x \\approx g(f(x))\n",
    "$$\n",
    "\n",
    "와 같이 인코딩과 디코딩을 거친 후의 값의 원래의 값과 가장 근사하기를 원합니다. 즉, 중요한 함수를 최대한 저장하면서 차원을 축소한 형태를 저장하기를 원하는 것입니다.\n"
   ],
   "cell_type": "markdown",
   "metadata": {}
  },
  {
   "source": [
    "### 디코딩 함수\n",
    "\n",
    "함수 $g$는 간단한 선형함수로 정의하기로 한다.\n",
    "\n",
    "$$\n",
    "g(c)=D c, \\quad D \\in \\mathbb{R}^{n \\times l}\n",
    "$$\n",
    "\n",
    "여기서 $D$열들이 정규화 되어 있고, 서로 직교한는 경우로 한정한다.\n",
    "\n",
    "\n",
    "### 인코딩 함수\n",
    "\n",
    "디코딩 함수가 위와 같이 주어졌을 때, 어떤 함수가 최적의 인코딩 함수 일까요?\n",
    "\n",
    "$$\n",
    "f(x)^{*}=\\underset{f(x)}{\\operatorname{argmin}} \\int\\|x-g(f(x))\\|_{2}^{2} d x\n",
    "$$\n",
    "\n",
    "\n",
    "즉, 인코더를 통하고 다시 디코더를 통한 값이 원래의 입력값 $x$와 차이를 최소화 하는 최적화 문제로 생각 할 수 있습니다. 위의 최적화 식을 푸는 방법은 오일러-라그랑주 변분법(Euler-Lagrange calculus of variantions)의 방법을 풀 수 있습니다. 다음과 같이 방정식\n",
    "\n",
    "$$\n",
    "\\nabla_{f}\\|x-g(f(x))\\|_{2}^{2}=0\n",
    "$$\n",
    "\n",
    "위의 방정식을 $f$에 관하여 풀면 됩니다. (함수의 변화에 대한 학문: 변분법) $f(x)=c$를 두고 풀면\n",
    "\n",
    "$$\n",
    "\\begin{aligned}\n",
    "\\|x-g(c)\\|_{2}^{2} &=(x-g(c))^{T}(x-g(c)) \\\\\n",
    "&=x^{T} x-x^{T} g(c)-g(c)^{T} x+g(c)^{T} g(c) \\\\\n",
    "&=x^{T} x-2 x^{T} g(c)+g(c)^{T} g(c) \\\\\n",
    "&=x^{T} x-2 x^{T} D c+c^{T} D^{T} D c \\\\\n",
    "&=x^{T} x-2 x^{T} D c+c^{T} I_{l} c \\\\\n",
    "&=x^{T} x-2 x^{T} D c+c^{T} c\n",
    "\\end{aligned}\n",
    "$$\n",
    "\n",
    "이렇게 정리한 식을 $c = f(x)$로 미분을 해줍니다.\n",
    "\n",
    "$$\n",
    "\\begin{array}{c}\n",
    "\\nabla_{c}\\left(x^{T} x-2 x^{T} D c+c^{T} c\\right)=0 \\\\\n",
    "-2 D^{T} x+2 c=0 \\\\\n",
    "c=D^{T} x\n",
    "\\end{array}\n",
    "$$\n",
    "\n",
    "따라서 위식을 통해 얻은 최적의 인코더 함수는 다음과 같습니다.\n",
    "\n",
    "$$\n",
    "f(x)=D^{T} x\n",
    "$$\n",
    "\n"
   ],
   "cell_type": "markdown",
   "metadata": {}
  },
  {
   "source": [
    "### 최적의 $D$ 찾기\n",
    "\n",
    "디코딩 함수 $g(c)=DC$는 정의 하였지만, 여기서 쓰이는 변환함수 $D$는 정의하지 않았습니다. 때문에 $D$를 찾기 위햇, 입력값 $x$와 출력값 $g(f(x))$의 사이의 거리가 최소화되는 $D$를 다음과 같이 찾을 수 있습니다.\n",
    "\n",
    "모든 $x$를 다음과 같이 블록행렬의 개념으로 생각할 수 있습니다. 대문자 $X$를 사용해서 $m$개의 입력벡터들을 다음과 같이 행렬로 표현 할 수 있습니다.(단, $x_i$는 행(row)벡터) 행렬 $R$은 입력벡터가 인코더와 디코더를 통해 변환된 값이라고 생각 할 수 있습니다. \n",
    "\n",
    "$$\n",
    "X=\\left[\\begin{array}{ccc}\n",
    "- & x_{1}^{T} & - \\\\\n",
    "& \\vdots & \\\\\n",
    "- & x_{m}^{T} & -\n",
    "\\end{array}\\right], \\quad R=\\left[\\begin{array}{ccc}\n",
    "- & g\\left(f\\left(x_{1}\\right)\\right)^{T} & - \\\\\n",
    "\\vdots & \\\\\n",
    "- & g\\left(f\\left(x_{m}\\right)\\right)^{T} & -\n",
    "\\end{array}\\right]\n",
    "$$\n",
    "\n",
    "이렇게 주어진 행렬의 차를 오류행렬 $E$라고 다음과 같이 정의 할 수 있습니다.\n",
    "\n",
    "$$\n",
    "E=X-R\n",
    "$$\n",
    "\n",
    "이렇게 주어진 조건을 통해서 우리가 찾는 최적의 $D$는 다음과 같이 목적함수를 세울 수 있습니다. \n",
    "\n",
    "$$\n",
    "D^{*}=\\underset{D}{\\operatorname{argmin}}\\|E\\|_{F}^{2} \\\\ \n",
    "\\text { subject to } D^{T} D=I_{l}\n",
    "$$\n",
    "\n",
    "\n",
    "\n",
    "\n",
    "\n"
   ],
   "cell_type": "markdown",
   "metadata": {}
  },
  {
   "source": [
    "$$\n",
    "\\begin{aligned}\n",
    "R &=\\left[\\begin{array}{ccc}\n",
    "- & g\\left(f\\left(x_{1}\\right)\\right)^{T} & - \\\\\n",
    "& \\vdots \\\\\n",
    "- & g\\left(f\\left(x_{m}\\right)\\right)^{T} & -\n",
    "\\end{array}\\right] \\\\\n",
    "&=\\left[\\begin{array}{ccc}\n",
    "- & \\left(D D^{T} x_{1}\\right)^{T} & - \\\\\n",
    "& \\vdots \\\\\n",
    "- & \\left(D D^{T} x_{m}\\right)^{T} & -\n",
    "\\end{array}\\right] \\\\\n",
    "&=\\left[\\begin{array}{ccc}\n",
    "- & x_{1}^{T} D D^{T} & - \\\\\n",
    "& \\vdots & \\\\\n",
    "- & x_{m}^{T} D D^{T} & -\n",
    "\\end{array}\\right] \\\\\n",
    "&=X D D^{T}\n",
    "\\end{aligned}\n",
    "$$"
   ],
   "cell_type": "markdown",
   "metadata": {}
  },
  {
   "source": [
    "$$\n",
    "\\begin{align*}\n",
    "\\mathop{\\mathrm{argmin}}_{D} \\|E\\|_F^2 &= \\mathop{\\mathrm{argmin}}_{D} \\| X - XDD^T\\|_F^2\\\\\n",
    "&= \\mathop{\\mathrm{argmin}}_{D} \\mathrm{tr}\\left( \\left(X - XDD^T\\right)^T\\left(X - XDD^T\\right) \\right)\\\\\n",
    "&= \\mathop{\\mathrm{argmin}}_{D} \\mathrm{tr} \\left( X^TX - X^TXDD^T - DD^TX^TX + DD^TX^TXDD^T \\right)\\\\\n",
    "&= \\mathop{\\mathrm{argmin}}_{D} \\mathrm{tr} \\left( X^TX \\right) - \\mathrm{tr} \\left( X^TXDD^T \\right) - \\mathrm{tr} \\left( DD^TX^TX \\right) + \\mathrm{tr} \\left( DD^TX^TXDD^T \\right)\\\\\n",
    "&= \\mathop{\\mathrm{argmin}}_{D} - \\mathrm{tr} \\left( X^TXDD^T \\right) - \\mathrm{tr} \\left( DD^TX^TX \\right) + \\mathrm{tr} \\left( DD^TX^TXDD^T \\right)\\\\\n",
    "&= \\mathop{\\mathrm{argmin}}_{D} - 2\\mathrm{tr} \\left( X^TXDD^T \\right) + \\mathrm{tr} \\left( DD^TX^TXDD^T \\right)\\\\\n",
    "&= \\mathop{\\mathrm{argmin}}_{D} - 2\\mathrm{tr} \\left( X^TXDD^T \\right) + \\mathrm{tr} \\left( X^TXDD^TDD^T \\right)\\\\\n",
    "&= \\mathop{\\mathrm{argmin}}_{D} - 2\\mathrm{tr} \\left( X^TXDD^T \\right) + \\mathrm{tr} \\left( X^TXDD^T \\right)\\\\\n",
    "&= \\mathop{\\mathrm{argmin}}_{D} - \\mathrm{tr} \\left( X^TXDD^T \\right)\\\\\n",
    "&= \\mathop{\\mathrm{argmin}}_{D} - \\mathrm{tr} \\left( D^TX^TXD \\right)\\\\\n",
    "&= \\mathop{\\mathrm{argmax}}_{D} \\mathrm{tr} \\left( D^TX^TXD\\right)\\\\\n",
    "&= \\mathop{\\mathrm{argmax}}_{d_1,\\ldots,d_l} \\sum_{i=1}^l d_i^TX^TXd_i\n",
    "\\end{align*}\n",
    "$$\n",
    "\n",
    "$d_i^Td_i = 1$이므로 벡터들 $d_1,\\ldots,d_l$이 $X^TX$의 가장 큰 $l$개의 고유값에 해당하는 고유벡터들일 때 $\\sum_{i=1}^l d_i^TX^TXd_i$이 최대화된다."
   ],
   "cell_type": "markdown",
   "metadata": {}
  },
  {
   "source": [
    "$$\n",
    "\\begin{align*}\n",
    "\\left( D^{\\top} X^{\\top} X D\\right)_{i i}&=\\left(\\left[\\begin{array}{c}\n",
    "-d_{1}^{T}- \\\\\n",
    "\\vdots \\\\\n",
    "\\vdots\n",
    "\\end{array}\\right] X^{T} X\\left[\\begin{array}{l}\n",
    "\\mid \\\\\n",
    "d_{1} & \\ldots \\\\\n",
    "\\mid\n",
    "\\end{array}\\right]\\right) \\\\\n",
    "\n",
    "&=\\left(\\left[\\begin{array}{c}\n",
    "-d_{1}^{T}X^TX- \\\\\n",
    "\\vdots \\\\\n",
    "\\vdots\n",
    "\\end{array}\\right] \\left[\\begin{array}{l}\n",
    "\\mid \\\\\n",
    "d_{1} & \\ldots \\\\\n",
    "\\mid\n",
    "\\end{array}\\right]\\right) \\\\\n",
    "\n",
    "&=d_i^TX^TX\n",
    "\\end{align*}\n",
    "$$"
   ],
   "cell_type": "markdown",
   "metadata": {}
  }
 ],
 "metadata": {
  "kernelspec": {
   "name": "python3",
   "display_name": "Python 3.8.8 64-bit ('anaconda3-2021.05': pyenv)"
  },
  "language_info": {
   "codemirror_mode": {
    "name": "ipython",
    "version": 3
   },
   "file_extension": ".py",
   "mimetype": "text/x-python",
   "name": "python",
   "nbconvert_exporter": "python",
   "pygments_lexer": "ipython3",
   "version": "3.8.8"
  },
  "interpreter": {
   "hash": "b7563cf126092772dcfab54e6bbf15d50a976f7d8373205facc9b39a90f3ad3c"
  }
 },
 "nbformat": 4,
 "nbformat_minor": 5
}