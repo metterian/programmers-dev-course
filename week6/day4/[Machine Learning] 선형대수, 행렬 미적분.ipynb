{
 "cells": [
  {
   "cell_type": "markdown",
   "id": "1ff45f45-a391-4949-b3ef-797dc1c7db57",
   "metadata": {},
   "source": [
    "## 들어가며\n",
    "### 선형대수를 왜 알아야 하는가?\n",
    "\n",
    "DL(Deep Learning)을 이해하기 위해서는 선형대수 + 행렬미분 + 확률의 기초지식이 필요합니다. 최근에 사용되는 Transformer의 경우 attention matrix를 사용하는데 \n",
    "\n",
    "$$\n",
    "\\operatorname{Att}_{\\leftrightarrow}(Q, K, V)=D^{-1} A V, A=\\exp \\left(Q K^{T} / \\sqrt{d}\\right), D=\\operatorname{diag}\\left(A 1_{L}\\right)\n",
    "$$\n",
    "\n",
    "이러한 경우 행렬에 대한 이해가 필요합니다. 이번 포스팅의 목표는 선형대수와 행렬 미분의 기초를 배우고 간단히 머신러닝 알고리즘(PCA)를 유도 해보고자 합니다."
   ]
  },
  {
   "cell_type": "markdown",
   "id": "83b5c394-4991-41a8-86b2-3db7326d3e5f",
   "metadata": {},
   "source": [
    "## 기본 표기법 (Basic Notation)\n",
    "\n",
    "- $A\\in \\mathbb{R}^{m\\times n}$는 $m$개의 행과 $n$개의 열을 가진 행렬을 의미한다.\n",
    "- $x \\in \\mathbb{R}^n$는 $n$개의 원소를 가진 벡터를 의미한다. $n$차원 벡터는 $n$개의 행과 1개의 열을 가진 행렬로 생각할 수도 있다. 이것을 열벡터(column vector)로 부르기도 한다. 만약, 명시적으로 행벡터(row vector)를 표현하고자 한다면, $x^T$($T$는 transpose를 의미)로 쓴다.\n",
    "- 벡터 $x$의 $i$번째 원소는 $x_i$로 표시한다.\n",
    "\n",
    "\n",
    "$$\n",
    "x=\\left[\\begin{array}{c}\n",
    "x_{1} \\\\\n",
    "x_{2} \\\\\n",
    "\\vdots \\\\\n",
    "x_{n}\n",
    "\\end{array}\\right]\n",
    "$$\n",
    "\n",
    "\n",
    "- $a_{ij}$(또는 $A_{ij}, A_{i,j}$)는 행렬 $A$의 $i$번째 행, $j$번째 열에 있는 원소를 표시한다.\n",
    "\n",
    "$$\n",
    "A=\\left[\\begin{array}{cccc}\n",
    "a_{11} & a_{12} & \\cdots & a_{1 n} \\\\\n",
    "a_{21} & a_{22} & \\cdots & a_{2 n} \\\\\n",
    "\\vdots & \\vdots & \\ddots & \\vdots \\\\\n",
    "a_{m 1} & a_{m 2} & \\cdots & a_{m n}\n",
    "\\end{array}\\right]\n",
    "$$\n",
    "\n",
    "- $A$의 $j$번째 열을 $a_j$ 혹은 $A_{:,j}$로 표시한다.\n",
    "\n",
    "$$\n",
    "A=\\left[\\begin{array}{cccc}\n",
    "\\mid & \\mid & & \\mid \\\\\n",
    "a_{1} & a_{2} & \\cdots & a_{n} \\\\\n",
    "\\mid & \\mid & & \\mid\n",
    "\\end{array}\\right]\n",
    "$$\n",
    "\n",
    "- $A$의 $i$번째 행을 $a_i^T$ 혹은 $A_{i,:}$로 표시한다.\n",
    "\n",
    "$$\n",
    "A=\\left[\\begin{array}{ccc}\n",
    "- & a_{1}^{T} & - \\\\\n",
    "- & a_{2}^{T} & - \\\\\n",
    "& \\vdots & \\\\\n",
    "- & a_{m}^{T} & -\n",
    "\\end{array}\\right]\n",
    "$$\n"
   ]
  },
  {
   "cell_type": "markdown",
   "id": "c1562798-7db9-4e74-a0c3-5c2523a2a309",
   "metadata": {},
   "source": [
    "### Python에서 벡터, 행렬의 표현 방법"
   ]
  },
  {
   "cell_type": "code",
   "execution_count": 1,
   "id": "83004b44-7b1c-496e-9f0c-ab465f5f6aa9",
   "metadata": {},
   "outputs": [],
   "source": [
    "import numpy as np"
   ]
  },
  {
   "cell_type": "code",
   "execution_count": 2,
   "id": "01c016ca-9fa7-4444-a69a-d1ff8da40718",
   "metadata": {},
   "outputs": [],
   "source": [
    "x = np.array([10.5, 5.2, 3.25])"
   ]
  },
  {
   "cell_type": "code",
   "execution_count": 3,
   "id": "b7df86d1-0ec9-49bf-b219-1de5cc0cfb23",
   "metadata": {},
   "outputs": [
    {
     "data": {
      "text/plain": [
       "(3,)"
      ]
     },
     "execution_count": 3,
     "metadata": {},
     "output_type": "execute_result"
    }
   ],
   "source": [
    "x.shape\n",
    "# (3,)"
   ]
  },
  {
   "cell_type": "markdown",
   "id": "b3a51ae2-c6f3-4669-9e18-3990d0425fb9",
   "metadata": {},
   "source": [
    "위의 결과 같이 (3,)으로 표시가 된다. 이는 1차원 배열을 나타낸다"
   ]
  },
  {
   "cell_type": "markdown",
   "id": "302d1438-5c89-4843-8745-aa6bbe8f7f86",
   "metadata": {},
   "source": [
    " "
   ]
  },
  {
   "cell_type": "markdown",
   "id": "7b79cbf2-2091-458f-a682-261105a03b7a",
   "metadata": {},
   "source": [
    "`numpy.expand_dims(a, axis)`\n",
    "- Expand the shape of an array.\n",
    "\n",
    "`np.expand_dims` 메소드를 사용해서 차원의 크기를 임의로 크게해 수 있습니다. 이는 우리가 이전의 포스팅에서 `x[:, np.newaxis]`으로 차원의 크기를 늘려주었던 방법과 동일한 방법입니다. 또한, `axis` 인자를 통해 열의 방향으로 확장할 것인지, 행의 방향으로 확장할 것인지를 지정 할 수있습니다"
   ]
  },
  {
   "cell_type": "code",
   "execution_count": 10,
   "id": "41313159-52c3-4090-95e5-003788dc226d",
   "metadata": {},
   "outputs": [
    {
     "data": {
      "text/plain": [
       "array([[10.5 ],\n",
       "       [ 5.2 ],\n",
       "       [ 3.25]])"
      ]
     },
     "execution_count": 10,
     "metadata": {},
     "output_type": "execute_result"
    }
   ],
   "source": [
    "np.expand_dims(x, axis=1) # column 방향으로 확장"
   ]
  },
  {
   "cell_type": "code",
   "execution_count": 5,
   "id": "644305a9-f00f-4131-962b-0989174bcbba",
   "metadata": {},
   "outputs": [
    {
     "data": {
      "text/plain": [
       "(3, 1)"
      ]
     },
     "execution_count": 5,
     "metadata": {},
     "output_type": "execute_result"
    }
   ],
   "source": [
    "np.expand_dims(x, axis=1).shape"
   ]
  },
  {
   "cell_type": "code",
   "execution_count": 7,
   "id": "67140613-7faf-4bee-9a0c-89835663755c",
   "metadata": {},
   "outputs": [
    {
     "data": {
      "text/plain": [
       "array([[10.5 ,  5.2 ,  3.25]])"
      ]
     },
     "execution_count": 7,
     "metadata": {},
     "output_type": "execute_result"
    }
   ],
   "source": [
    "np.expand_dims(x, axis=0) # row 방향으로 확장,  x[np.newaxis, :] or x[np.newaxis]와 동일한 방법"
   ]
  },
  {
   "cell_type": "code",
   "execution_count": 8,
   "id": "803ce95e-8167-4069-834e-5260953065aa",
   "metadata": {},
   "outputs": [
    {
     "data": {
      "text/plain": [
       "(1, 3)"
      ]
     },
     "execution_count": 8,
     "metadata": {},
     "output_type": "execute_result"
    }
   ],
   "source": [
    "np.expand_dims(x, axis=0).shape"
   ]
  },
  {
   "cell_type": "markdown",
   "id": "8e61f331-2c10-432f-972e-ec9231cd38ed",
   "metadata": {},
   "source": [
    " "
   ]
  },
  {
   "cell_type": "code",
   "execution_count": 11,
   "id": "af3a0f5a-5c97-4d79-a67b-080c07110017",
   "metadata": {},
   "outputs": [],
   "source": [
    "A = np.array([\n",
    "    [10, 20, 30],\n",
    "    [40, 50, 60]\n",
    "])"
   ]
  },
  {
   "cell_type": "code",
   "execution_count": 13,
   "id": "258921fe-c28e-4e44-b7a8-87210e9c70c7",
   "metadata": {},
   "outputs": [
    {
     "data": {
      "text/plain": [
       "(2, 3)"
      ]
     },
     "execution_count": 13,
     "metadata": {},
     "output_type": "execute_result"
    }
   ],
   "source": [
    "A.shape"
   ]
  },
  {
   "cell_type": "code",
   "execution_count": 14,
   "id": "954dc976-f80e-44bc-926c-697f2348a00d",
   "metadata": {},
   "outputs": [
    {
     "data": {
      "text/plain": [
       "30"
      ]
     },
     "execution_count": 14,
     "metadata": {},
     "output_type": "execute_result"
    }
   ],
   "source": [
    "A[0,2] # equivalent A[0][2]"
   ]
  },
  {
   "cell_type": "code",
   "execution_count": 16,
   "id": "0d1950fe-3381-44ce-bed9-0c7e01be7f8e",
   "metadata": {},
   "outputs": [
    {
     "data": {
      "text/plain": [
       "array([20, 50])"
      ]
     },
     "execution_count": 16,
     "metadata": {},
     "output_type": "execute_result"
    }
   ],
   "source": [
    "# Column vector\n",
    "A[:, 1]"
   ]
  },
  {
   "cell_type": "markdown",
   "id": "0b5f993f-1bba-4496-8ef5-d5e8fe822540",
   "metadata": {},
   "source": [
    "위 벡터는 column 벡터를 추출하였지만, row 벡터 인 것처럼 보입니다. 이는 단순히 표기를 1차원 배열로 한 것일 뿐입니다."
   ]
  },
  {
   "cell_type": "code",
   "execution_count": 17,
   "id": "c61e59bc-60e9-465d-aee1-ef2734482ee9",
   "metadata": {},
   "outputs": [
    {
     "data": {
      "text/plain": [
       "array([40, 50, 60])"
      ]
     },
     "execution_count": 17,
     "metadata": {},
     "output_type": "execute_result"
    }
   ],
   "source": [
    "# Row vector\n",
    "A[1, :]"
   ]
  },
  {
   "cell_type": "markdown",
   "id": "c0b89c1e-c878-4be2-be9f-8b9fccd63fea",
   "metadata": {},
   "source": [
    " "
   ]
  },
  {
   "cell_type": "markdown",
   "id": "b7313ffe-5d57-461f-8cae-5fe078e16f34",
   "metadata": {},
   "source": [
    " "
   ]
  },
  {
   "cell_type": "markdown",
   "id": "368d1e87-0e52-45c1-a415-e8cfef7c3305",
   "metadata": {},
   "source": [
    "## 행렬의 곱셈(Matrix Muliplication)\n",
    "\n",
    "두 개의 행렬 $A\\in \\mathbb{R}^{m\\times n}$, $B\\in \\mathbb{R}^{n\\times p}$의 곱 $C = AB \\in \\mathbb{R}^{m\\times p}$는 다음과 같이 정의된다.\n",
    "\n",
    "$$C_{ij} = \\sum_{k=1}^n A_{ik}B_{kj}$$\n",
    "\n",
    "행렬의 곱셈을 이해하는 몇 가지 방식들이 존재 합니다. \n",
    "- 벡터 $\\times$ 벡터\n",
    "- 행렬 $\\times$ 벡터\n",
    "- 행렬 $\\times$ 행렬"
   ]
  },
  {
   "cell_type": "markdown",
   "id": "65b54ccb-4293-4b73-88fc-e2177ad8cede",
   "metadata": {},
   "source": [
    "### 벡터 $\\times$ 벡터 (Vector-Vector Products)\n",
    "\n",
    "두 개의 벡터 $x, y\\in \\mathbb{R}^n$이 주어졌을 때 **내적**(inner product 또는 dot product) $x^Ty$는 다음과 같이 정의된다.\n",
    "\n",
    "$$\n",
    "x^{T} y \\in \\mathbb{R}=\\left[\\begin{array}{llll}\n",
    "x_{1} & x_{2} & \\cdots & x_{n}\n",
    "\\end{array}\\right]\\left[\\begin{array}{c}\n",
    "y_{1} \\\\\n",
    "y_{2} \\\\\n",
    "\\vdots \\\\\n",
    "y_{n}\n",
    "\\end{array}\\right]=\\sum_{i=1}^{n} x_{i} y_{i}\n",
    "$$\n",
    "\n",
    "$$\n",
    "x^{T} y=y^{T} x\n",
    "$$"
   ]
  },
  {
   "cell_type": "code",
   "execution_count": 18,
   "id": "190abc0f-bd01-4905-bfa6-a17502cecafc",
   "metadata": {},
   "outputs": [
    {
     "data": {
      "text/plain": [
       "32"
      ]
     },
     "execution_count": 18,
     "metadata": {},
     "output_type": "execute_result"
    }
   ],
   "source": [
    "x = np.array([1,2,3])\n",
    "y = np.array([4,5,6])\n",
    "x.dot(y)"
   ]
  },
  {
   "cell_type": "markdown",
   "id": "2bc3d3ff-39e4-4c3e-b3be-fca59c31750d",
   "metadata": {},
   "source": [
    "#### 외적\n",
    "외적을 구할 때는 두 벡터의 차원이 다른 경우입니다. 내적의 경우에는 두 벡터의 차원이 같은 경우입니다.\n",
    "두 개의 벡터 $x\\in \\mathbb{R}^m, y\\in \\mathbb{R}^n$이 주어졌을 때 외적(outer product) $xy^T\\in \\mathbb{R}^{m\\times n}$는 다음과 같이 정의된다.\n",
    "\n",
    "여기서 기억해야 할 점은 내적을 구했을 때는 스칼라값을 얻을 수 있었지만, 외적을 구했을 떄는 행령을 얻을 수 있습니다.\n",
    "\n",
    "$$\n",
    "\\left.x y^{T_{*}} \\in \\mathbb{R}^{m \\times n}=\\left[\\begin{array}{c}\n",
    "x_{1} \\\\\n",
    "x_{2} \\\\\n",
    "\\vdots \\\\\n",
    "x_{m}\n",
    "\\end{array}\\right]\\left[\\begin{array}{lll}\n",
    "y_{1} & y_{2} & \\cdots\n",
    "\\end{array}\\right]_{n}\\right]=\\left[\\begin{array}{cccc}\n",
    "x_{1} y_{1} & x_{1} y_{2} & \\cdots & x_{1} y_{n} \\\\\n",
    "x_{2} y_{1} & x_{2} y_{2} & \\cdots & x_{2} y_{n} \\\\\n",
    "\\vdots & \\vdots & \\ddots & \\vdots \\\\\n",
    "x_{m} y_{1} & x_{m} y_{2} & \\cdots & x_{m} y_{n}\n",
    "\\end{array}\\right]\n",
    "$$"
   ]
  },
  {
   "cell_type": "code",
   "execution_count": 19,
   "id": "a2330ee7-db14-47a3-86cf-edd3dab99317",
   "metadata": {},
   "outputs": [],
   "source": [
    "x = np.array([1,2,3])\n",
    "y = np.array([4,5,6])"
   ]
  },
  {
   "cell_type": "code",
   "execution_count": 20,
   "id": "0688dbb5-b1ff-4a3a-8e11-83d79bfa81ad",
   "metadata": {},
   "outputs": [
    {
     "data": {
      "text/plain": [
       "((3, 1), (1, 3))"
      ]
     },
     "execution_count": 20,
     "metadata": {},
     "output_type": "execute_result"
    }
   ],
   "source": [
    "x = np.expand_dims(x, axis=1) # column 방향으로 추가\n",
    "y = np.expand_dims(y, axis=0) # row 방향으로 추가\n",
    "x.shape, y.shape # x: column vector, y: row vector"
   ]
  },
  {
   "cell_type": "code",
   "execution_count": 22,
   "id": "cbd8aeb3-c083-4439-9e1b-167595b865f6",
   "metadata": {},
   "outputs": [
    {
     "data": {
      "text/plain": [
       "array([[1],\n",
       "       [2],\n",
       "       [3]])"
      ]
     },
     "execution_count": 22,
     "metadata": {},
     "output_type": "execute_result"
    }
   ],
   "source": [
    "x"
   ]
  },
  {
   "cell_type": "code",
   "execution_count": 23,
   "id": "24befbde-6a3b-4b0e-a1c7-0c95b18d0a2a",
   "metadata": {},
   "outputs": [
    {
     "data": {
      "text/plain": [
       "array([[4, 5, 6]])"
      ]
     },
     "execution_count": 23,
     "metadata": {},
     "output_type": "execute_result"
    }
   ],
   "source": [
    "y"
   ]
  },
  {
   "cell_type": "code",
   "execution_count": 24,
   "id": "b4dbaf0e-8e95-445d-84ab-1be1d3abeda0",
   "metadata": {},
   "outputs": [
    {
     "data": {
      "text/plain": [
       "array([[ 4,  5,  6],\n",
       "       [ 8, 10, 12],\n",
       "       [12, 15, 18]])"
      ]
     },
     "execution_count": 24,
     "metadata": {},
     "output_type": "execute_result"
    }
   ],
   "source": [
    "np.matmul(x,y)"
   ]
  },
  {
   "cell_type": "markdown",
   "id": "6725c91e-9387-43dc-9d83-8be644e4567c",
   "metadata": {},
   "source": [
    " "
   ]
  },
  {
   "cell_type": "markdown",
   "id": "bdb2d324-b238-42d6-ba20-3a758dfc7aef",
   "metadata": {},
   "source": [
    "#### 외적이 유용한 경우\n",
    "외적이 유용한 경우는 다음과 같습니다. 행렬 $A$는 모든 colummn이 동일한 벡터 $x$를 가지고 있다고 가정해 봅시다. 외적을 이용하면 간편하게 $x \\mathbf{1}^{T}$로 나타낼 수 있습니다. ($1 \\in \\mathbb{R}^{n}$은 모든 원소가 1인 $n$-차원 벡터)\n",
    "\n",
    "$$\n",
    "A=\\left[\\begin{array}{llll}\n",
    "\\mid & \\mid & & \\mid \\\\\n",
    "x & x & \\cdots & x \\\\\n",
    "\\mid & \\mid & & \\mid\n",
    "\\end{array}\\right]=\\left[\\begin{array}{cccc}\n",
    "x_{1} & x_{1} & \\cdots & x_{1} \\\\\n",
    "x_{2} & x_{2} & \\cdots & x_{2} \\\\\n",
    "\\vdots & \\vdots & \\ddots & \\vdots \\\\\n",
    "x_{m} & x_{m} & \\cdots & x_{m}\n",
    "\\end{array}\\right]=\\left[\\begin{array}{c}\n",
    "x_{1} \\\\\n",
    "x_{2} \\\\\n",
    "\\vdots \\\\\n",
    "x_{m}\n",
    "\\end{array}\\right]\\left[\\begin{array}{llll}\n",
    "1 & 1 & \\cdots & 1\n",
    "\\end{array}\\right]=x \\mathbf{1}^{T}\n",
    "$$"
   ]
  },
  {
   "cell_type": "code",
   "execution_count": 27,
   "id": "ccad9197-78ad-40b9-a2d1-12eeab90a419",
   "metadata": {},
   "outputs": [
    {
     "data": {
      "text/plain": [
       "array([[1],\n",
       "       [2],\n",
       "       [3]])"
      ]
     },
     "execution_count": 27,
     "metadata": {},
     "output_type": "execute_result"
    }
   ],
   "source": [
    "# column 벡터\n",
    "x = np.expand_dims(np.array([1,2,3]), axis=1)\n",
    "x"
   ]
  },
  {
   "cell_type": "code",
   "execution_count": 28,
   "id": "f9cb4295-990b-4705-94fb-a87b958eb969",
   "metadata": {},
   "outputs": [],
   "source": [
    "ones = np.ones([1,4])"
   ]
  },
  {
   "cell_type": "code",
   "execution_count": 31,
   "id": "f6716cd4-3367-4e38-8f48-ff1432ae77b1",
   "metadata": {},
   "outputs": [
    {
     "data": {
      "text/plain": [
       "array([[1., 1., 1., 1.],\n",
       "       [2., 2., 2., 2.],\n",
       "       [3., 3., 3., 3.]])"
      ]
     },
     "execution_count": 31,
     "metadata": {},
     "output_type": "execute_result"
    }
   ],
   "source": [
    "A = np.matmul(x, ones)\n",
    "A"
   ]
  },
  {
   "cell_type": "markdown",
   "id": "cc1cce80-e2ad-45c7-ac7d-c4c0b067efb3",
   "metadata": {
    "tags": []
   },
   "source": [
    " "
   ]
  },
  {
   "cell_type": "markdown",
   "id": "53ea9feb-b98b-4389-b663-03231ad12842",
   "metadata": {},
   "source": [
    "### 행렬 $\\times$ 벡터 (Matrix-Vector Products)\n",
    "\n",
    "행렬 $A\\in \\mathbb{R}^{m\\times n}$와 벡터 $x\\in \\mathbb{R}^n$의 곱은 벡터 $y = Ax \\in \\mathbb{R}^m$이다. 이 곱을 몇 가지 측면에서 바라볼 수 있다.\n",
    "\n",
    "#### 열벡터를 오른쪽에 곱하고($Ax$), $A$가 행의 형태로 표현되었을 때\n",
    "\n",
    "$$\n",
    "y=A x=\\left[\\begin{array}{ccc}\n",
    "- & a_{1}^{T} & - \\\\\n",
    "- & a_{2}^{T} & - \\\\\n",
    "& \\vdots & \\\\\n",
    "- & a_{m}^{T} & -\n",
    "\\end{array}\\right] x=\\left[\\begin{array}{c}\n",
    "a_{1}^{T} x \\\\\n",
    "a_{2}^{T} x \\\\\n",
    "\\vdots \\\\\n",
    "a_{m}^{T} x\n",
    "\\end{array}\\right]\n",
    "$$"
   ]
  },
  {
   "cell_type": "code",
   "execution_count": 32,
   "id": "fb370880-2293-4134-9335-ba2a6a197a53",
   "metadata": {},
   "outputs": [],
   "source": [
    "A = np.array([\n",
    "    [1,2,3],\n",
    "    [4,5,6]\n",
    "])"
   ]
  },
  {
   "cell_type": "code",
   "execution_count": 33,
   "id": "25362539-38c2-462a-9acd-f11d2ec1f3c3",
   "metadata": {},
   "outputs": [
    {
     "data": {
      "text/plain": [
       "array([[1.],\n",
       "       [1.],\n",
       "       [1.]])"
      ]
     },
     "execution_count": 33,
     "metadata": {},
     "output_type": "execute_result"
    }
   ],
   "source": [
    "ones = np.ones([3,1])\n",
    "ones"
   ]
  },
  {
   "cell_type": "code",
   "execution_count": 34,
   "id": "32178e23-2791-45fc-992e-9551b7103cf3",
   "metadata": {},
   "outputs": [
    {
     "data": {
      "text/plain": [
       "array([[ 6.],\n",
       "       [15.]])"
      ]
     },
     "execution_count": 34,
     "metadata": {},
     "output_type": "execute_result"
    }
   ],
   "source": [
    "np.matmul(A, ones)"
   ]
  },
  {
   "cell_type": "markdown",
   "id": "fd0edee3-b353-4953-9a82-8b1c90ae67f3",
   "metadata": {},
   "source": [
    "#### column 벡터를 오른쪽에 곱하고, $A$가 Column의 형태로 표현 되었을 때\n",
    "\n",
    "$$\n",
    "y=A x=\\left[\\begin{array}{cccc}\n",
    "\\mid & \\mid & & 1 \\\\\n",
    "a_{1} & a_{2} & \\cdots & a_{n} \\\\\n",
    "\\mid & \\mid & & \\mid\n",
    "\\end{array}\\right]\\left[\\begin{array}{c}\n",
    "x_{1} \\\\\n",
    "x_{2} \\\\\n",
    "\\vdots \\\\\n",
    "x_{n}\n",
    "\\end{array}\\right]=\\left[\\begin{array}{c}\n",
    "1 \\\\\n",
    "a_{1} \\\\\n",
    "1\n",
    "\\end{array}\\right] x_{1}+\\left[\\begin{array}{c}\n",
    "1 \\\\\n",
    "a_{2} \\\\\n",
    "1\n",
    "\\end{array}\\right] x_{2}+\\cdots+\\left[\\begin{array}{c}\n",
    "1 \\\\\n",
    "a_{n} \\\\\n",
    "1\n",
    "\\end{array}\\right] x_{n}\n",
    "$$"
   ]
  },
  {
   "cell_type": "code",
   "execution_count": 36,
   "id": "04a6027a-5916-4611-ae94-f6657f7a67f7",
   "metadata": {},
   "outputs": [
    {
     "data": {
      "text/plain": [
       "array([[4],\n",
       "       [5]])"
      ]
     },
     "execution_count": 36,
     "metadata": {},
     "output_type": "execute_result"
    }
   ],
   "source": [
    "A = np.array([\n",
    "    [1,0,1],\n",
    "    [0,1,1]\n",
    "])\n",
    "\n",
    "x = np.array([\n",
    "    [1],\n",
    "    [2],\n",
    "    [3]\n",
    "])\n",
    "np.matmul(A, x)"
   ]
  },
  {
   "cell_type": "code",
   "execution_count": 37,
   "id": "2b024b4c-a0df-417f-b06e-71a23f09d653",
   "metadata": {},
   "outputs": [
    {
     "name": "stdout",
     "output_type": "stream",
     "text": [
      "a_0: [1 0] \tx_0: [1] \ta_0*x_0: [1 0]\n",
      "a_1: [0 1] \tx_1: [2] \ta_1*x_1: [0 2]\n",
      "a_2: [1 1] \tx_2: [3] \ta_2*x_2: [3 3]\n"
     ]
    }
   ],
   "source": [
    "for i in range(A.shape[1]):\n",
    "    print('a_'+str(i)+':', A[:,i], '\\tx_'+str(i)+':', x[i], '\\ta_'+str(i)+'*x_'+str(i)+':', A[:,i]*x[i])"
   ]
  },
  {
   "cell_type": "code",
   "execution_count": null,
   "id": "e1a86b8d-d31c-47c7-a66d-031b374db0fc",
   "metadata": {},
   "outputs": [],
   "source": []
  }
 ],
 "metadata": {
  "kernelspec": {
   "display_name": "Python 3",
   "language": "python",
   "name": "python3"
  },
  "language_info": {
   "codemirror_mode": {
    "name": "ipython",
    "version": 3
   },
   "file_extension": ".py",
   "mimetype": "text/x-python",
   "name": "python",
   "nbconvert_exporter": "python",
   "pygments_lexer": "ipython3",
   "version": "3.8.8"
  }
 },
 "nbformat": 4,
 "nbformat_minor": 5
}
